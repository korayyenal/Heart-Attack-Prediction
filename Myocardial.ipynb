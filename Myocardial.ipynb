{
 "cells": [
  {
   "cell_type": "code",
   "execution_count": 1,
   "metadata": {
    "id": "uzXbv3nTOrN0"
   },
   "outputs": [],
   "source": [
    "import random\n",
    "from collections import Counter\n",
    "import pandas as pd\n",
    "from pandas import DataFrame\n",
    "import numpy as np\n",
    "from numpy import isnan\n",
    "from numpy import mean\n",
    "from numpy import std\n",
    "from numpy import loadtxt\n",
    "from numpy import sort\n",
    "from matplotlib import pyplot\n",
    "import matplotlib.pyplot as plt\n",
    "import graphviz \n",
    "from graphviz import Digraph\n",
    "from sklearn import tree\n",
    "from sklearn import metrics\n",
    "from sklearn.impute import KNNImputer\n",
    "from sklearn.impute import SimpleImputer\n",
    "from sklearn.model_selection import cross_val_score\n",
    "from sklearn.model_selection import RepeatedStratifiedKFold\n",
    "from sklearn.model_selection import cross_validate\n",
    "from sklearn.model_selection import GridSearchCV  \n",
    "from sklearn.model_selection import train_test_split\n",
    "from sklearn.model_selection import KFold\n",
    "from sklearn.metrics import accuracy_score\n",
    "from sklearn.metrics import roc_curve\n",
    "from sklearn.metrics import roc_auc_score\n",
    "from sklearn.feature_selection import RFE\n",
    "from sklearn.feature_selection import SelectFromModel\n",
    "from sklearn.linear_model import LogisticRegression\n",
    "import sklearn.linear_model as skl_lm\n",
    "from sklearn.datasets import make_classification\n",
    "from sklearn.ensemble import RandomForestClassifier\n",
    "from sklearn.tree import DecisionTreeClassifier\n",
    "from sklearn.pipeline import Pipeline\n",
    "import xgboost \n",
    "import xgboost as xgb\n",
    "from xgboost import XGBClassifier\n",
    "from xgboost.sklearn import XGBClassifier\n",
    "from xgboost import plot_importance\n",
    "from IPython.display import HTML\n",
    "import warnings\n",
    "warnings.filterwarnings('ignore')"
   ]
  },
  {
   "cell_type": "code",
   "execution_count": 2,
   "metadata": {},
   "outputs": [],
   "source": [
    "dataframe = pd.read_csv(\"Myocardial.csv\", header=0, na_values='?') "
   ]
  },
  {
   "cell_type": "code",
   "execution_count": 3,
   "metadata": {
    "id": "smF0QfSBOrN3",
    "outputId": "b7441312-29d4-4e21-ba9b-d24198db334b"
   },
   "outputs": [
    {
     "name": "stdout",
     "output_type": "stream",
     "text": [
      "    AGE  SEX  INF_ANAM  STENOK_AN  FK_STENOK  IBS_POST  IBS_NASL   GB  \\\n",
      "0  77.0    1       2.0        1.0        1.0       2.0       NaN  3.0   \n",
      "1  55.0    1       1.0        0.0        0.0       0.0       0.0  0.0   \n",
      "2  52.0    1       0.0        0.0        0.0       2.0       NaN  2.0   \n",
      "3  68.0    0       0.0        0.0        0.0       2.0       NaN  2.0   \n",
      "4  60.0    1       0.0        0.0        0.0       2.0       NaN  3.0   \n",
      "\n",
      "   SIM_GIPERT  DLIT_AG  ...  NOT_NA_2_n  NOT_NA_3_n  LID_S_n  B_BLOK_S_n  \\\n",
      "0         0.0      7.0  ...         0.0         0.0      1.0         0.0   \n",
      "1         0.0      0.0  ...         0.0         0.0      1.0         0.0   \n",
      "2         0.0      2.0  ...         2.0         2.0      1.0         1.0   \n",
      "3         0.0      3.0  ...         0.0         0.0      0.0         0.0   \n",
      "4         0.0      7.0  ...         0.0         0.0      0.0         0.0   \n",
      "\n",
      "   ANT_CA_S_n  GEPAR_S_n  ASP_S_n  TIKL_S_n  TRENT_S_n  Compl  \n",
      "0         0.0        1.0      1.0       0.0        0.0      0  \n",
      "1         1.0        1.0      1.0       0.0        1.0      0  \n",
      "2         0.0        1.0      1.0       0.0        0.0      0  \n",
      "3         1.0        1.0      1.0       0.0        0.0      1  \n",
      "4         1.0        0.0      1.0       0.0        1.0      0  \n",
      "\n",
      "[5 rows x 112 columns]\n"
     ]
    }
   ],
   "source": [
    "# summarize first rows\n",
    "print(dataframe.head())"
   ]
  },
  {
   "cell_type": "code",
   "execution_count": 76,
   "metadata": {
    "id": "WUTiSXT0OrN5",
    "outputId": "5ce4bc32-0833-4dc2-a29e-df5ebd73e20b",
    "scrolled": true
   },
   "outputs": [],
   "source": [
    "# missing values per column (# selected column threshold: 30%)\n",
    "column_list = []\n",
    "for i in range(dataframe.shape[1]):\n",
    "    n_miss = dataframe.iloc[:,i].isnull().sum()\n",
    "    perc = n_miss / dataframe.shape[0] * 100\n",
    "    # print('> %d, Missing: %d (%.1f%%)' % (i, n_miss, perc))\n",
    "    if perc >= 30:\n",
    "        column_list.append(i)"
   ]
  },
  {
   "cell_type": "code",
   "execution_count": 5,
   "metadata": {
    "id": "osU4DepLOrN9",
    "outputId": "67ab418d-a3bf-4fec-f29d-71615fec090b"
   },
   "outputs": [],
   "source": [
    "# drop rows with missing values\n",
    "dataframe_col_name = dataframe.columns\n",
    "dataframe_col_name_delete= dataframe_col_name[column_list]\n",
    "dataframe.drop(dataframe_col_name_delete, axis=1, inplace=True)"
   ]
  },
  {
   "cell_type": "code",
   "execution_count": 6,
   "metadata": {
    "id": "DaJ0d7SXOrOB"
   },
   "outputs": [],
   "source": [
    "dataframe.to_csv('Myocardial_2.csv')\n",
    "dataframe_2 = pd.read_csv(\"Myocardial_2.csv\", index_col = 0, na_values='?')"
   ]
  },
  {
   "cell_type": "code",
   "execution_count": 77,
   "metadata": {
    "id": "3Kg8hA81OrOE",
    "outputId": "eb279ce7-f76d-4241-ae74-d96f7c36042e"
   },
   "outputs": [],
   "source": [
    "# missing values per row (selected column threshold: 30%)\n",
    "row_list = []\n",
    "for i in range(dataframe_2.shape[0]):\n",
    "    n_miss = dataframe_2.iloc[i].isnull().sum()\n",
    "    perc = n_miss / dataframe_2.shape[1] * 100\n",
    "    # print('> %d, Missing: %d (%.1f%%)' % (i, n_miss, perc))\n",
    "    if perc >= 30:\n",
    "        row_list.append(i)"
   ]
  },
  {
   "cell_type": "code",
   "execution_count": 9,
   "metadata": {
    "id": "KGGyiz0cOrOF"
   },
   "outputs": [],
   "source": [
    "dataframe_2.drop(row_list,axis=0,inplace=True)\n",
    "dataframe_2.to_csv('Myocardial_3.csv')"
   ]
  },
  {
   "cell_type": "code",
   "execution_count": 11,
   "metadata": {
    "id": "T3ebI1zWOrOH",
    "outputId": "e940e0f0-feaf-4cb6-e21d-3dd8c351ba56"
   },
   "outputs": [],
   "source": [
    "X = dataframe_2.iloc[:, 0:104]\n",
    "y = dataframe_2.iloc[:, 104]"
   ]
  },
  {
   "cell_type": "code",
   "execution_count": 12,
   "metadata": {
    "id": "qY_jufgxOrOJ",
    "outputId": "900b3511-1e35-40e0-d852-79c3a955fd35"
   },
   "outputs": [],
   "source": [
    "# create list of binary variables\n",
    "binary_list = []\n",
    "for i in range(len(X.iloc[0])):\n",
    "    if X.iloc[:,i].max() == 1:\n",
    "        binary_list.append(i)"
   ]
  },
  {
   "cell_type": "code",
   "execution_count": 13,
   "metadata": {
    "id": "bRHbI6ujOrOJ"
   },
   "outputs": [],
   "source": [
    "# create list of continuous variables\n",
    "continuous_list = [0,32,33,79,81,82,83,84,85]\n",
    "\n",
    "# create list of all variables\n",
    "listt = [*range(104)]"
   ]
  },
  {
   "cell_type": "code",
   "execution_count": 14,
   "metadata": {
    "id": "09LtPP-nOrOK"
   },
   "outputs": [],
   "source": [
    "def Diff(li1, li2):\n",
    "    return list(set(li1) - set(li2)) + list(set(li2) - set(li1))"
   ]
  },
  {
   "cell_type": "code",
   "execution_count": 15,
   "metadata": {
    "id": "3Xrzys9BOrOK",
    "outputId": "f4b504b8-a109-47c2-f8f5-4b6aef69fc47"
   },
   "outputs": [],
   "source": [
    "# create list of categorical variables \n",
    "binary_categorical = Diff(listt, continuous_list)\n",
    "categorical_list = Diff(binary_categorical,binary_list)"
   ]
  },
  {
   "cell_type": "code",
   "execution_count": 16,
   "metadata": {
    "id": "AxhfXE96OrOL",
    "scrolled": true
   },
   "outputs": [],
   "source": [
    "# convert binary to boolean\n",
    "for i in range(len(X.columns[binary_list])):\n",
    "    X[X.columns[binary_list][i]] = X[X.columns[binary_list][i]].astype('bool')\n",
    "X[X.columns[binary_list]]\n",
    "X_binary = X[X.columns[binary_list]]\n",
    "binary_name = X_binary.columns"
   ]
  },
  {
   "cell_type": "code",
   "execution_count": 17,
   "metadata": {
    "id": "AZ-AF7yPOrOL"
   },
   "outputs": [],
   "source": [
    "# convert continuous to float    \n",
    "for i in range(len(X.columns[continuous_list])):\n",
    "    X[X.columns[continuous_list][i]] = X[X.columns[continuous_list][i]].astype('float')\n",
    "X[X.columns[continuous_list]]\n",
    "X_continuous = X[X.columns[continuous_list]]\n",
    "cont_name = X_continuous.columns"
   ]
  },
  {
   "cell_type": "code",
   "execution_count": 18,
   "metadata": {
    "id": "eIFaKCt0OrOM"
   },
   "outputs": [],
   "source": [
    "# convert categorical to integer   \n",
    "for i in range(len(X.columns[categorical_list])):\n",
    "    X[X.columns[categorical_list][i]] = X[X.columns[categorical_list][i]].astype('float')\n",
    "X[X.columns[categorical_list]]\n",
    "X_categorical = X[X.columns[categorical_list]]\n",
    "catg_name = X_categorical.columns"
   ]
  },
  {
   "cell_type": "code",
   "execution_count": 118,
   "metadata": {
    "id": "aK-daIMQOrON",
    "outputId": "4b683f3a-3ea0-4a53-e709-86caddf3bf4c"
   },
   "outputs": [
    {
     "name": "stdout",
     "output_type": "stream",
     "text": [
      "Total sum of all missing values in X_binary: 0\n"
     ]
    }
   ],
   "source": [
    "# impute binary variables \n",
    "imputer = KNNImputer(n_neighbors=5)\n",
    "imputer=imputer.fit(X_binary)\n",
    "\n",
    "# convert to array\n",
    "X_binary = imputer.transform(X_binary)\n",
    "X_binary = pd.DataFrame(X_binary)\n",
    "X_binary.columns = binary_name\n",
    "X_binary.to_csv('Myocardial_binary.csv',sep=\",\")\n",
    "# check null values\n",
    "print(\"Total sum of all missing values in X_binary:\", X_binary.isnull().sum(axis = 0).sum())"
   ]
  },
  {
   "cell_type": "code",
   "execution_count": 115,
   "metadata": {
    "id": "1p890SXcOrOO"
   },
   "outputs": [
    {
     "name": "stdout",
     "output_type": "stream",
     "text": [
      "Total sum of all missing values in X_continuous: 0\n"
     ]
    }
   ],
   "source": [
    "# impute continuous variables\n",
    "imputer = KNNImputer(n_neighbors=5)\n",
    "imputer=imputer.fit(X_continuous)\n",
    "\n",
    "X_continuous = imputer.transform(X_continuous)\n",
    "X_continuous = pd.DataFrame(X_continuous)\n",
    "X_continuous.to_csv('Myocardial_cont.csv',sep=\",\")\n",
    "X_continuous.columns = cont_name\n",
    "print(\"Total sum of all missing values in X_continuous:\", X_continuous.isnull().sum(axis = 0).sum())"
   ]
  },
  {
   "cell_type": "code",
   "execution_count": 117,
   "metadata": {
    "id": "jJpHeXfyOrOP",
    "outputId": "85e945f8-0d4e-451d-84a2-b64a00975ce1"
   },
   "outputs": [
    {
     "name": "stdout",
     "output_type": "stream",
     "text": [
      "Total sum of all missing values in X_categorical: 0\n"
     ]
    }
   ],
   "source": [
    "# impute categorical variables\n",
    "imputer = SimpleImputer(missing_values=np.nan, strategy='most_frequent')\n",
    "imputer=imputer.fit(X_categorical)\n",
    "\n",
    "X_categorical = imputer.transform(X_categorical)\n",
    "X_categorical = pd.DataFrame(X_categorical)\n",
    "X_categorical.columns = catg_name\n",
    "X_categorical.to_csv('Myocardial_catg.csv',sep=\",\")\n",
    "print(\"Total sum of all missing values in X_categorical:\",X_categorical.isnull().sum(axis = 0).sum())"
   ]
  },
  {
   "cell_type": "code",
   "execution_count": 22,
   "metadata": {
    "id": "ZWV5DcNKOrOR"
   },
   "outputs": [],
   "source": [
    "# return columns of an array\n",
    "def column(matrix, i):\n",
    "    return [row[i] for row in matrix]"
   ]
  },
  {
   "cell_type": "code",
   "execution_count": 23,
   "metadata": {
    "id": "_SNkvkn2OrOR"
   },
   "outputs": [],
   "source": [
    "# encode categorical variables\n",
    "X_cat = X_categorical.to_numpy()\n",
    "encoded_dataframe = pd.get_dummies(column(X_cat,0))\n",
    "\n",
    "for i in range(1,len(X_categorical.iloc[0])):\n",
    "    encoded = pd.get_dummies(column(X_cat,i))\n",
    "    encoded_dataframe = pd.concat([encoded_dataframe, encoded], axis=1)\n",
    "    \n",
    "categorical_names = [*np.arange(101)]\n",
    "encoded_dataframe.columns = categorical_names\n",
    "encoded_dataframe.to_csv('Myocardial_encoding.csv',sep=\",\")"
   ]
  },
  {
   "cell_type": "code",
   "execution_count": 24,
   "metadata": {
    "id": "eP5CkJeoOrOS"
   },
   "outputs": [],
   "source": [
    "# standardize continuous variables\n",
    "for i in range(len(X_continuous.iloc[0])):\n",
    "    X_continuous.iloc[:, i] = (X_continuous.iloc[:, i] - X_continuous.iloc[:, i].mean())/X_continuous.iloc[:, i].std()\n",
    "\n",
    "# combine datasets\n",
    "X_all_combined = pd.concat([X_continuous, encoded_dataframe, X_binary], axis=1)\n",
    "X_all_combined.to_csv('Myocardial_2_v2.csv')\n",
    "X_df = X_all_combined"
   ]
  },
  {
   "cell_type": "code",
   "execution_count": 25,
   "metadata": {
    "id": "B4ivLXi0OrOT",
    "outputId": "75369c62-8b16-4947-bc4a-f65f9ad12690"
   },
   "outputs": [
    {
     "name": "stdout",
     "output_type": "stream",
     "text": [
      "Counter({1: 923, 0: 753})\n"
     ]
    }
   ],
   "source": [
    "counter = Counter(y)\n",
    "print(counter)"
   ]
  },
  {
   "cell_type": "code",
   "execution_count": 26,
   "metadata": {
    "id": "qGByyJjXOrOT"
   },
   "outputs": [],
   "source": [
    "random.seed(240)\n",
    "from sklearn.model_selection import train_test_split\n",
    "X_train, X_test, y_train, y_test = train_test_split(X_df, y, test_size=0.2, random_state=42, stratify = y)"
   ]
  },
  {
   "cell_type": "code",
   "execution_count": 27,
   "metadata": {
    "id": "bsFieseiOrOU",
    "outputId": "2f690d7d-08cd-4651-b392-0ebb05eda336"
   },
   "outputs": [
    {
     "name": "stdout",
     "output_type": "stream",
     "text": [
      "Counter({1: 738, 0: 602})\n"
     ]
    }
   ],
   "source": [
    "counter = Counter(y_train)\n",
    "print(counter)"
   ]
  },
  {
   "cell_type": "code",
   "execution_count": 28,
   "metadata": {
    "id": "ScwtxZPqOrOU",
    "outputId": "6d449895-84f5-41f7-bd99-6dff982a6258"
   },
   "outputs": [],
   "source": [
    "# decision tree \n",
    "# explore the number of selected features for RFE\n",
    "\n",
    "# get a list of models to evaluate\n",
    "def get_models():\n",
    "    models = dict()\n",
    "    for i in range(2, 21):\n",
    "        rfe = RFE(estimator=DecisionTreeClassifier(), n_features_to_select=i)\n",
    "        model = DecisionTreeClassifier()\n",
    "        models[str(i)] = Pipeline(steps=[('s',rfe),('m',model)])\n",
    "    return models\n",
    "\n",
    "# evaluate a given model using cross-validation\n",
    "def evaluate_model(model, X_train, y_train):\n",
    "    cv = RepeatedStratifiedKFold(n_splits=10, n_repeats=3, random_state=1)\n",
    "    scores = cross_val_score(model, X_train, y_train, scoring='accuracy', cv=cv, n_jobs=-1, error_score='raise')\n",
    "    return scores"
   ]
  },
  {
   "cell_type": "code",
   "execution_count": 29,
   "metadata": {
    "scrolled": false
   },
   "outputs": [
    {
     "name": "stdout",
     "output_type": "stream",
     "text": [
      ">2 0.501 (0.052)\n",
      ">3 0.526 (0.042)\n",
      ">4 0.526 (0.039)\n",
      ">5 0.533 (0.051)\n",
      ">6 0.545 (0.036)\n",
      ">7 0.539 (0.043)\n",
      ">8 0.550 (0.038)\n",
      ">9 0.534 (0.041)\n",
      ">10 0.567 (0.047)\n",
      ">11 0.555 (0.043)\n",
      ">12 0.559 (0.037)\n",
      ">13 0.553 (0.037)\n",
      ">14 0.572 (0.052)\n",
      ">15 0.577 (0.046)\n",
      ">16 0.566 (0.047)\n",
      ">17 0.575 (0.031)\n",
      ">18 0.573 (0.046)\n",
      ">19 0.563 (0.038)\n",
      ">20 0.581 (0.056)\n"
     ]
    },
    {
     "data": {
      "image/png": "[encoded data removed]",
      "text/plain": [
       "<Figure size 432x288 with 1 Axes>"
      ]
     },
     "metadata": {
      "needs_background": "light"
     },
     "output_type": "display_data"
    }
   ],
   "source": [
    "# get the models to evaluate\n",
    "models = get_models()\n",
    "\n",
    "X_train.columns = X_train.columns.map(str)\n",
    "\n",
    "# evaluate models and store results\n",
    "results, names = list(), list()\n",
    "for name, model in models.items():\n",
    "    scores = evaluate_model(model, X_train, y_train)\n",
    "    results.append(scores)\n",
    "    names.append(name)\n",
    "    print('>%s %.3f (%.3f)' % (name, mean(scores), std(scores)))\n",
    "\n",
    "# plot model performance for comparison\n",
    "pyplot.boxplot(results, labels=names, showmeans=True)\n",
    "pyplot.show()"
   ]
  },
  {
   "cell_type": "code",
   "execution_count": 86,
   "metadata": {
    "id": "xmjRk7I9OrOV",
    "outputId": "5344dbbf-bd4e-4ea6-92ed-ced4170f2532",
    "scrolled": true
   },
   "outputs": [
    {
     "name": "stdout",
     "output_type": "stream",
     "text": [
      "Column: 0, Selected True, Rank: 1.000\n",
      "Column: 1, Selected True, Rank: 1.000\n",
      "Column: 2, Selected True, Rank: 1.000\n",
      "Column: 3, Selected True, Rank: 1.000\n",
      "Column: 4, Selected True, Rank: 1.000\n",
      "Column: 5, Selected True, Rank: 1.000\n",
      "Column: 6, Selected True, Rank: 1.000\n",
      "Column: 7, Selected True, Rank: 1.000\n",
      "Column: 8, Selected True, Rank: 1.000\n",
      "Column: 41, Selected True, Rank: 1.000\n"
     ]
    }
   ],
   "source": [
    "# report 10 features selected by RFE\n",
    "rfe_10 = RFE(estimator=DecisionTreeClassifier(), n_features_to_select=10)\n",
    "rfe_10.fit(X_train, y_train)\n",
    "\n",
    "# summarize all features\n",
    "for i in range(X_train.shape[1]):\n",
    "    if(rfe_10.support_[i] == True):\n",
    "        print('Column: %d, Selected %s, Rank: %.3f' % (i, rfe_10.support_[i], rfe_10.ranking_[i]))"
   ]
  },
  {
   "cell_type": "code",
   "execution_count": 31,
   "metadata": {
    "id": "yysxYAf8OrOV",
    "outputId": "a7cfdc7b-8755-4637-ec73-bb71ff2ee239"
   },
   "outputs": [],
   "source": [
    "# 10 selected features\n",
    "DT_selected_list_10 = []\n",
    "for i in range(X_train.shape[1]):\n",
    "    if rfe_10.support_[i] == True:\n",
    "        DT_selected_list_10.append(i)\n",
    "X_train.columns[DT_selected_list_10]\n",
    "X_train_10 = X_train[X_train.columns[DT_selected_list_10]]"
   ]
  },
  {
   "cell_type": "code",
   "execution_count": 88,
   "metadata": {
    "id": "I92zrD4MOrOW",
    "outputId": "7bdcea0f-e864-4b31-aee1-c98c99c2e302"
   },
   "outputs": [
    {
     "name": "stdout",
     "output_type": "stream",
     "text": [
      "Column: 0, Selected True, Rank: 1.000\n",
      "Column: 1, Selected True, Rank: 1.000\n",
      "Column: 2, Selected True, Rank: 1.000\n",
      "Column: 3, Selected True, Rank: 1.000\n",
      "Column: 4, Selected True, Rank: 1.000\n",
      "Column: 5, Selected True, Rank: 1.000\n",
      "Column: 6, Selected True, Rank: 1.000\n",
      "Column: 7, Selected True, Rank: 1.000\n",
      "Column: 8, Selected True, Rank: 1.000\n",
      "Column: 22, Selected True, Rank: 1.000\n",
      "Column: 41, Selected True, Rank: 1.000\n",
      "Column: 50, Selected True, Rank: 1.000\n",
      "Column: 95, Selected True, Rank: 1.000\n",
      "Column: 126, Selected True, Rank: 1.000\n",
      "Column: 176, Selected True, Rank: 1.000\n"
     ]
    }
   ],
   "source": [
    "# report 15 features selected by RFE\n",
    "rfe_15 = RFE(estimator=DecisionTreeClassifier(), n_features_to_select=15)\n",
    "rfe_15.fit(X_train, y_train)\n",
    "# summarize all features\n",
    "for i in range(X_train.shape[1]):\n",
    "    if(rfe_15.support_[i] == True):\n",
    "        print('Column: %d, Selected %s, Rank: %.3f' % (i, rfe_15.support_[i], rfe_15.ranking_[i]))"
   ]
  },
  {
   "cell_type": "code",
   "execution_count": 33,
   "metadata": {
    "id": "pMkg6WokOrOX",
    "outputId": "afbc859e-3b62-40dc-d906-c1d48262d412"
   },
   "outputs": [
    {
     "data": {
      "text/plain": [
       "Index(['AGE', 'S_AD_ORIT', 'D_AD_ORIT', 'K_BLOOD', 'NA_BLOOD', 'ALT_BLOOD',\n",
       "       'AST_BLOOD', 'L_BLOOD', 'ROE', '17', '32', '86', 'zab_leg_02', 'NITR_S',\n",
       "       'LID_S_n'],\n",
       "      dtype='object')"
      ]
     },
     "execution_count": 33,
     "metadata": {},
     "output_type": "execute_result"
    }
   ],
   "source": [
    "# 15 selected features\n",
    "DT_selected_list_15 = []\n",
    "for i in range(X_train.shape[1]):\n",
    "    if rfe_15.support_[i] == True:\n",
    "        DT_selected_list_15.append(i)\n",
    "DT_selected_list_15\n",
    "X_train.columns[DT_selected_list_15]"
   ]
  },
  {
   "cell_type": "code",
   "execution_count": 34,
   "metadata": {
    "id": "40Gmpf0vOrOX",
    "outputId": "00b90cbb-0cff-4872-ca94-7f61aae279d3"
   },
   "outputs": [],
   "source": [
    "X_train_15 = X_train[X_train.columns[DT_selected_list_15]]"
   ]
  },
  {
   "cell_type": "code",
   "execution_count": 90,
   "metadata": {
    "id": "2UVAh6LgOrOY",
    "outputId": "b3cf4db9-41a5-4b30-e21d-7a00ce714f76",
    "scrolled": true
   },
   "outputs": [
    {
     "data": {
      "text/plain": [
       "({'max_depth': 7, 'min_samples_leaf': 25}, 0.6126865671641791)"
      ]
     },
     "execution_count": 90,
     "metadata": {},
     "output_type": "execute_result"
    }
   ],
   "source": [
    "# decision tree - hyperparameter tuning with all data\n",
    "param_test1 = {\n",
    " 'max_depth':range(2,25,1),\n",
    " 'min_samples_leaf':range(10,60,5)\n",
    "}\n",
    "grid = GridSearchCV(DecisionTreeClassifier(),param_test1)              \n",
    "grid.fit(X_train,y_train)\n",
    "grid.best_params_, grid.best_score_"
   ]
  },
  {
   "cell_type": "code",
   "execution_count": 91,
   "metadata": {
    "id": "Ilb-v3uhOrOY",
    "outputId": "e5f68c89-8c21-4a02-93c5-a2b4974dd5f2",
    "scrolled": true
   },
   "outputs": [
    {
     "data": {
      "text/plain": [
       "({'max_depth': 2, 'min_samples_leaf': 10}, 0.5977611940298508)"
      ]
     },
     "execution_count": 91,
     "metadata": {},
     "output_type": "execute_result"
    }
   ],
   "source": [
    "# decision tree - hyperparameter tuning with 10 features\n",
    "param_test1 = {\n",
    " 'max_depth':range(2,25,1),\n",
    " 'min_samples_leaf':range(10,60,5)\n",
    "}\n",
    "grid = GridSearchCV(DecisionTreeClassifier(),param_test1)\n",
    "                    \n",
    "grid.fit(X_train_10,y_train)\n",
    "grid.best_params_, grid.best_score_"
   ]
  },
  {
   "cell_type": "code",
   "execution_count": 92,
   "metadata": {
    "id": "S4FF4WwCOrOY",
    "outputId": "a1818c19-5551-43d8-91f1-1cc22a924509"
   },
   "outputs": [
    {
     "data": {
      "text/plain": [
       "({'max_depth': 4, 'min_samples_leaf': 10}, 0.5992537313432835)"
      ]
     },
     "execution_count": 92,
     "metadata": {},
     "output_type": "execute_result"
    }
   ],
   "source": [
    "# decision tree - hyperparameter tuning with 15 features\n",
    "param_test1 = {\n",
    " 'max_depth':range(3,25,1),\n",
    " 'min_samples_leaf':range(10,60,5)\n",
    "}\n",
    "grid = GridSearchCV(DecisionTreeClassifier(),param_test1)                  \n",
    "grid.fit(X_train_15,y_train)\n",
    "grid.best_params_, grid.best_score_"
   ]
  },
  {
   "cell_type": "code",
   "execution_count": 38,
   "metadata": {
    "id": "9ZCvdIxsOrOY"
   },
   "outputs": [
    {
     "name": "stdout",
     "output_type": "stream",
     "text": [
      "Accuracy: 0.6101190476190477\n",
      "Precision: 0.6015037593984962\n",
      "Recall: 0.8648648648648649\n",
      "F-measure: 0.7095343680709534\n"
     ]
    }
   ],
   "source": [
    "# predict with all features\n",
    "clf_dt = DecisionTreeClassifier(max_depth=3, min_samples_leaf=10)\n",
    "clf_dt = clf_dt.fit(X_train,y_train)\n",
    "\n",
    "X_test.columns = X_test.columns.map(str)\n",
    "y_pred = clf_dt.predict(X_test)\n",
    "\n",
    "# report performance metrics\n",
    "print(\"Accuracy:\",metrics.accuracy_score(y_test, y_pred))\n",
    "print(\"Precision:\",metrics.precision_score(y_test, y_pred))\n",
    "print(\"Recall:\",metrics.recall_score(y_test, y_pred))\n",
    "print(\"F-measure:\",metrics.f1_score(y_test, y_pred))"
   ]
  },
  {
   "cell_type": "code",
   "execution_count": 93,
   "metadata": {
    "id": "DyS-fyMOOrOZ"
   },
   "outputs": [
    {
     "name": "stdout",
     "output_type": "stream",
     "text": [
      "Accuracy: 0.6041666666666666\n",
      "Precision: 0.6007751937984496\n",
      "Recall: 0.8378378378378378\n",
      "F-measure: 0.6997742663656884\n"
     ]
    }
   ],
   "source": [
    "# predict with 10 features\n",
    "X_test_10 = X_test[X_test.columns[DT_selected_list_10]]\n",
    "\n",
    "clf_dt_10 = DecisionTreeClassifier(max_depth=2, min_samples_leaf=10)\n",
    "clf_dt_10 = clf_dt_10.fit(X_train_10,y_train)\n",
    "y_pred = clf_dt_10.predict(X_test_10)\n",
    "\n",
    "# report performance metrics\n",
    "print(\"Accuracy:\",metrics.accuracy_score(y_test, y_pred))\n",
    "print(\"Precision:\",metrics.precision_score(y_test, y_pred))\n",
    "print(\"Recall:\",metrics.recall_score(y_test, y_pred))\n",
    "print(\"F-measure:\",metrics.f1_score(y_test, y_pred))"
   ]
  },
  {
   "cell_type": "code",
   "execution_count": 40,
   "metadata": {
    "id": "nGSugPYMOrOa"
   },
   "outputs": [
    {
     "name": "stdout",
     "output_type": "stream",
     "text": [
      "Accuracy: 0.6130952380952381\n",
      "Precision: 0.6053639846743295\n",
      "Recall: 0.8540540540540541\n",
      "F-measure: 0.7085201793721975\n"
     ]
    }
   ],
   "source": [
    "# predict with 15 features\n",
    "X_test_15 = X_test[X_test.columns[DT_selected_list_15]]\n",
    "\n",
    "clf_dt_15= DecisionTreeClassifier(max_depth=5, min_samples_leaf=15)\n",
    "clf_dt_15 = clf_dt_15.fit(X_train_15,y_train)\n",
    "y_pred = clf_dt_15.predict(X_test_15)\n",
    "\n",
    "# report performance metrics\n",
    "print(\"Accuracy:\",metrics.accuracy_score(y_test, y_pred))\n",
    "print(\"Precision:\",metrics.precision_score(y_test, y_pred))\n",
    "print(\"Recall:\",metrics.recall_score(y_test, y_pred))\n",
    "print(\"F-measure:\",metrics.f1_score(y_test, y_pred))"
   ]
  },
  {
   "cell_type": "code",
   "execution_count": 41,
   "metadata": {
    "id": "QgGQ0D0COrOb",
    "outputId": "8c0a7fad-4af6-4821-a658-cf9502a64e76"
   },
   "outputs": [
    {
     "data": {
      "image/svg+xml": [
       "<?xml version=\"1.0\" encoding=\"UTF-8\" standalone=\"no\"?>\n",
       "<!DOCTYPE svg PUBLIC \"-//W3C//DTD SVG 1.1//EN\"\n",
       " \"http://www.w3.org/Graphics/SVG/1.1/DTD/svg11.dtd\">\n",
       "<!-- Generated by graphviz version 2.50.0 (0)\n",
       " -->\n",
       "<!-- Title: Tree Pages: 1 -->\n",
       "<svg width=\"763pt\" height=\"433pt\"\n",
       " viewBox=\"0.00 0.00 762.50 433.00\" xmlns=\"http://www.w3.org/2000/svg\" xmlns:xlink=\"http://www.w3.org/1999/xlink\">\n",
       "<g id=\"graph0\" class=\"graph\" transform=\"scale(1 1) rotate(0) translate(4 429)\">\n",
       "<title>Tree</title>\n",
       "<polygon fill=\"white\" stroke=\"transparent\" points=\"-4,4 -4,-429 758.5,-429 758.5,4 -4,4\"/>\n",
       "<!-- 0 -->\n",
       "<g id=\"node1\" class=\"node\">\n",
       "<title>0</title>\n",
       "<path fill=\"#dbedfa\" stroke=\"black\" d=\"M446,-425C446,-425 345,-425 345,-425 339,-425 333,-419 333,-413 333,-413 333,-354 333,-354 333,-348 339,-342 345,-342 345,-342 446,-342 446,-342 452,-342 458,-348 458,-354 458,-354 458,-413 458,-413 458,-419 452,-425 446,-425\"/>\n",
       "<text text-anchor=\"start\" x=\"371\" y=\"-409.8\" font-family=\"Helvetica,sans-Serif\" font-size=\"14.00\">32 ≤ 0.5</text>\n",
       "<text text-anchor=\"start\" x=\"360\" y=\"-394.8\" font-family=\"Helvetica,sans-Serif\" font-size=\"14.00\">gini = 0.495</text>\n",
       "<text text-anchor=\"start\" x=\"347\" y=\"-379.8\" font-family=\"Helvetica,sans-Serif\" font-size=\"14.00\">samples = 1340</text>\n",
       "<text text-anchor=\"start\" x=\"341\" y=\"-364.8\" font-family=\"Helvetica,sans-Serif\" font-size=\"14.00\">value = [602, 738]</text>\n",
       "<text text-anchor=\"start\" x=\"368\" y=\"-349.8\" font-family=\"Helvetica,sans-Serif\" font-size=\"14.00\">class = 1</text>\n",
       "</g>\n",
       "<!-- 1 -->\n",
       "<g id=\"node2\" class=\"node\">\n",
       "<title>1</title>\n",
       "<path fill=\"#ebf5fc\" stroke=\"black\" d=\"M372,-306C372,-306 271,-306 271,-306 265,-306 259,-300 259,-294 259,-294 259,-235 259,-235 259,-229 265,-223 271,-223 271,-223 372,-223 372,-223 378,-223 384,-229 384,-235 384,-235 384,-294 384,-294 384,-300 378,-306 372,-306\"/>\n",
       "<text text-anchor=\"start\" x=\"280\" y=\"-290.8\" font-family=\"Helvetica,sans-Serif\" font-size=\"14.00\">AGE ≤ &#45;0.742</text>\n",
       "<text text-anchor=\"start\" x=\"286\" y=\"-275.8\" font-family=\"Helvetica,sans-Serif\" font-size=\"14.00\">gini = 0.499</text>\n",
       "<text text-anchor=\"start\" x=\"273\" y=\"-260.8\" font-family=\"Helvetica,sans-Serif\" font-size=\"14.00\">samples = 1260</text>\n",
       "<text text-anchor=\"start\" x=\"267\" y=\"-245.8\" font-family=\"Helvetica,sans-Serif\" font-size=\"14.00\">value = [596, 664]</text>\n",
       "<text text-anchor=\"start\" x=\"294\" y=\"-230.8\" font-family=\"Helvetica,sans-Serif\" font-size=\"14.00\">class = 1</text>\n",
       "</g>\n",
       "<!-- 0&#45;&gt;1 -->\n",
       "<g id=\"edge1\" class=\"edge\">\n",
       "<title>0&#45;&gt;1</title>\n",
       "<path fill=\"none\" stroke=\"black\" d=\"M369.83,-341.91C364.26,-333.1 358.31,-323.7 352.56,-314.61\"/>\n",
       "<polygon fill=\"black\" stroke=\"black\" points=\"355.43,-312.6 347.13,-306.02 349.52,-316.34 355.43,-312.6\"/>\n",
       "<text text-anchor=\"middle\" x=\"341.64\" y=\"-326.71\" font-family=\"Helvetica,sans-Serif\" font-size=\"14.00\">True</text>\n",
       "</g>\n",
       "<!-- 8 -->\n",
       "<g id=\"node9\" class=\"node\">\n",
       "<title>8</title>\n",
       "<path fill=\"#49a5e7\" stroke=\"black\" d=\"M525,-306C525,-306 414,-306 414,-306 408,-306 402,-300 402,-294 402,-294 402,-235 402,-235 402,-229 408,-223 414,-223 414,-223 525,-223 525,-223 531,-223 537,-229 537,-235 537,-235 537,-294 537,-294 537,-300 531,-306 525,-306\"/>\n",
       "<text text-anchor=\"start\" x=\"410\" y=\"-290.8\" font-family=\"Helvetica,sans-Serif\" font-size=\"14.00\">K_BLOOD ≤ &#45;0.781</text>\n",
       "<text text-anchor=\"start\" x=\"434\" y=\"-275.8\" font-family=\"Helvetica,sans-Serif\" font-size=\"14.00\">gini = 0.139</text>\n",
       "<text text-anchor=\"start\" x=\"428.5\" y=\"-260.8\" font-family=\"Helvetica,sans-Serif\" font-size=\"14.00\">samples = 80</text>\n",
       "<text text-anchor=\"start\" x=\"426.5\" y=\"-245.8\" font-family=\"Helvetica,sans-Serif\" font-size=\"14.00\">value = [6, 74]</text>\n",
       "<text text-anchor=\"start\" x=\"442\" y=\"-230.8\" font-family=\"Helvetica,sans-Serif\" font-size=\"14.00\">class = 1</text>\n",
       "</g>\n",
       "<!-- 0&#45;&gt;8 -->\n",
       "<g id=\"edge8\" class=\"edge\">\n",
       "<title>0&#45;&gt;8</title>\n",
       "<path fill=\"none\" stroke=\"black\" d=\"M421.17,-341.91C426.74,-333.1 432.69,-323.7 438.44,-314.61\"/>\n",
       "<polygon fill=\"black\" stroke=\"black\" points=\"441.48,-316.34 443.87,-306.02 435.57,-312.6 441.48,-316.34\"/>\n",
       "<text text-anchor=\"middle\" x=\"449.36\" y=\"-326.71\" font-family=\"Helvetica,sans-Serif\" font-size=\"14.00\">False</text>\n",
       "</g>\n",
       "<!-- 2 -->\n",
       "<g id=\"node3\" class=\"node\">\n",
       "<title>2</title>\n",
       "<path fill=\"#f4c9aa\" stroke=\"black\" d=\"M231,-187C231,-187 130,-187 130,-187 124,-187 118,-181 118,-175 118,-175 118,-116 118,-116 118,-110 124,-104 130,-104 130,-104 231,-104 231,-104 237,-104 243,-110 243,-116 243,-116 243,-175 243,-175 243,-181 237,-187 231,-187\"/>\n",
       "<text text-anchor=\"start\" x=\"139.5\" y=\"-171.8\" font-family=\"Helvetica,sans-Serif\" font-size=\"14.00\">NITR_S ≤ 0.5</text>\n",
       "<text text-anchor=\"start\" x=\"145\" y=\"-156.8\" font-family=\"Helvetica,sans-Serif\" font-size=\"14.00\">gini = 0.463</text>\n",
       "<text text-anchor=\"start\" x=\"135.5\" y=\"-141.8\" font-family=\"Helvetica,sans-Serif\" font-size=\"14.00\">samples = 289</text>\n",
       "<text text-anchor=\"start\" x=\"126\" y=\"-126.8\" font-family=\"Helvetica,sans-Serif\" font-size=\"14.00\">value = [184, 105]</text>\n",
       "<text text-anchor=\"start\" x=\"153\" y=\"-111.8\" font-family=\"Helvetica,sans-Serif\" font-size=\"14.00\">class = 0</text>\n",
       "</g>\n",
       "<!-- 1&#45;&gt;2 -->\n",
       "<g id=\"edge2\" class=\"edge\">\n",
       "<title>1&#45;&gt;2</title>\n",
       "<path fill=\"none\" stroke=\"black\" d=\"M272.58,-222.91C261.21,-213.47 249,-203.34 237.32,-193.65\"/>\n",
       "<polygon fill=\"black\" stroke=\"black\" points=\"239.26,-190.71 229.33,-187.02 234.79,-196.1 239.26,-190.71\"/>\n",
       "</g>\n",
       "<!-- 5 -->\n",
       "<g id=\"node6\" class=\"node\">\n",
       "<title>5</title>\n",
       "<path fill=\"#cbe5f8\" stroke=\"black\" d=\"M374,-187C374,-187 273,-187 273,-187 267,-187 261,-181 261,-175 261,-175 261,-116 261,-116 261,-110 267,-104 273,-104 273,-104 374,-104 374,-104 380,-104 386,-110 386,-116 386,-116 386,-175 386,-175 386,-181 380,-187 374,-187\"/>\n",
       "<text text-anchor=\"start\" x=\"299\" y=\"-171.8\" font-family=\"Helvetica,sans-Serif\" font-size=\"14.00\">86 ≤ 0.5</text>\n",
       "<text text-anchor=\"start\" x=\"288\" y=\"-156.8\" font-family=\"Helvetica,sans-Serif\" font-size=\"14.00\">gini = 0.489</text>\n",
       "<text text-anchor=\"start\" x=\"278.5\" y=\"-141.8\" font-family=\"Helvetica,sans-Serif\" font-size=\"14.00\">samples = 971</text>\n",
       "<text text-anchor=\"start\" x=\"269\" y=\"-126.8\" font-family=\"Helvetica,sans-Serif\" font-size=\"14.00\">value = [412, 559]</text>\n",
       "<text text-anchor=\"start\" x=\"296\" y=\"-111.8\" font-family=\"Helvetica,sans-Serif\" font-size=\"14.00\">class = 1</text>\n",
       "</g>\n",
       "<!-- 1&#45;&gt;5 -->\n",
       "<g id=\"edge5\" class=\"edge\">\n",
       "<title>1&#45;&gt;5</title>\n",
       "<path fill=\"none\" stroke=\"black\" d=\"M322.19,-222.91C322.34,-214.56 322.49,-205.67 322.64,-197.02\"/>\n",
       "<polygon fill=\"black\" stroke=\"black\" points=\"326.14,-197.08 322.81,-187.02 319.14,-196.96 326.14,-197.08\"/>\n",
       "</g>\n",
       "<!-- 3 -->\n",
       "<g id=\"node4\" class=\"node\">\n",
       "<title>3</title>\n",
       "<path fill=\"#f2c09d\" stroke=\"black\" d=\"M105,-68C105,-68 12,-68 12,-68 6,-68 0,-62 0,-56 0,-56 0,-12 0,-12 0,-6 6,0 12,0 12,0 105,0 105,0 111,0 117,-6 117,-12 117,-12 117,-56 117,-56 117,-62 111,-68 105,-68\"/>\n",
       "<text text-anchor=\"start\" x=\"23\" y=\"-52.8\" font-family=\"Helvetica,sans-Serif\" font-size=\"14.00\">gini = 0.445</text>\n",
       "<text text-anchor=\"start\" x=\"13.5\" y=\"-37.8\" font-family=\"Helvetica,sans-Serif\" font-size=\"14.00\">samples = 275</text>\n",
       "<text text-anchor=\"start\" x=\"8\" y=\"-22.8\" font-family=\"Helvetica,sans-Serif\" font-size=\"14.00\">value = [183, 92]</text>\n",
       "<text text-anchor=\"start\" x=\"31\" y=\"-7.8\" font-family=\"Helvetica,sans-Serif\" font-size=\"14.00\">class = 0</text>\n",
       "</g>\n",
       "<!-- 2&#45;&gt;3 -->\n",
       "<g id=\"edge3\" class=\"edge\">\n",
       "<title>2&#45;&gt;3</title>\n",
       "<path fill=\"none\" stroke=\"black\" d=\"M135.07,-103.73C124.6,-94.33 113.48,-84.35 103.05,-74.99\"/>\n",
       "<polygon fill=\"black\" stroke=\"black\" points=\"105.38,-72.37 95.6,-68.3 100.71,-77.58 105.38,-72.37\"/>\n",
       "</g>\n",
       "<!-- 4 -->\n",
       "<g id=\"node5\" class=\"node\">\n",
       "<title>4</title>\n",
       "<path fill=\"#48a5e7\" stroke=\"black\" d=\"M225.5,-68C225.5,-68 147.5,-68 147.5,-68 141.5,-68 135.5,-62 135.5,-56 135.5,-56 135.5,-12 135.5,-12 135.5,-6 141.5,0 147.5,0 147.5,0 225.5,0 225.5,0 231.5,0 237.5,-6 237.5,-12 237.5,-12 237.5,-56 237.5,-56 237.5,-62 231.5,-68 225.5,-68\"/>\n",
       "<text text-anchor=\"start\" x=\"151\" y=\"-52.8\" font-family=\"Helvetica,sans-Serif\" font-size=\"14.00\">gini = 0.133</text>\n",
       "<text text-anchor=\"start\" x=\"145.5\" y=\"-37.8\" font-family=\"Helvetica,sans-Serif\" font-size=\"14.00\">samples = 14</text>\n",
       "<text text-anchor=\"start\" x=\"143.5\" y=\"-22.8\" font-family=\"Helvetica,sans-Serif\" font-size=\"14.00\">value = [1, 13]</text>\n",
       "<text text-anchor=\"start\" x=\"159\" y=\"-7.8\" font-family=\"Helvetica,sans-Serif\" font-size=\"14.00\">class = 1</text>\n",
       "</g>\n",
       "<!-- 2&#45;&gt;4 -->\n",
       "<g id=\"edge4\" class=\"edge\">\n",
       "<title>2&#45;&gt;4</title>\n",
       "<path fill=\"none\" stroke=\"black\" d=\"M182.73,-103.73C183.18,-95.52 183.66,-86.86 184.11,-78.56\"/>\n",
       "<polygon fill=\"black\" stroke=\"black\" points=\"187.62,-78.48 184.68,-68.3 180.63,-78.09 187.62,-78.48\"/>\n",
       "</g>\n",
       "<!-- 6 -->\n",
       "<g id=\"node7\" class=\"node\">\n",
       "<title>6</title>\n",
       "<path fill=\"#52a9e8\" stroke=\"black\" d=\"M356.5,-68C356.5,-68 278.5,-68 278.5,-68 272.5,-68 266.5,-62 266.5,-56 266.5,-56 266.5,-12 266.5,-12 266.5,-6 272.5,0 278.5,0 278.5,0 356.5,0 356.5,0 362.5,0 368.5,-6 368.5,-12 368.5,-12 368.5,-56 368.5,-56 368.5,-62 362.5,-68 356.5,-68\"/>\n",
       "<text text-anchor=\"start\" x=\"282\" y=\"-52.8\" font-family=\"Helvetica,sans-Serif\" font-size=\"14.00\">gini = 0.198</text>\n",
       "<text text-anchor=\"start\" x=\"276.5\" y=\"-37.8\" font-family=\"Helvetica,sans-Serif\" font-size=\"14.00\">samples = 54</text>\n",
       "<text text-anchor=\"start\" x=\"274.5\" y=\"-22.8\" font-family=\"Helvetica,sans-Serif\" font-size=\"14.00\">value = [6, 48]</text>\n",
       "<text text-anchor=\"start\" x=\"290\" y=\"-7.8\" font-family=\"Helvetica,sans-Serif\" font-size=\"14.00\">class = 1</text>\n",
       "</g>\n",
       "<!-- 5&#45;&gt;6 -->\n",
       "<g id=\"edge6\" class=\"edge\">\n",
       "<title>5&#45;&gt;6</title>\n",
       "<path fill=\"none\" stroke=\"black\" d=\"M321.27,-103.73C320.82,-95.52 320.34,-86.86 319.89,-78.56\"/>\n",
       "<polygon fill=\"black\" stroke=\"black\" points=\"323.37,-78.09 319.32,-68.3 316.38,-78.48 323.37,-78.09\"/>\n",
       "</g>\n",
       "<!-- 7 -->\n",
       "<g id=\"node8\" class=\"node\">\n",
       "<title>7</title>\n",
       "<path fill=\"#d6ebfa\" stroke=\"black\" d=\"M500,-68C500,-68 399,-68 399,-68 393,-68 387,-62 387,-56 387,-56 387,-12 387,-12 387,-6 393,0 399,0 399,0 500,0 500,0 506,0 512,-6 512,-12 512,-12 512,-56 512,-56 512,-62 506,-68 500,-68\"/>\n",
       "<text text-anchor=\"start\" x=\"414\" y=\"-52.8\" font-family=\"Helvetica,sans-Serif\" font-size=\"14.00\">gini = 0.493</text>\n",
       "<text text-anchor=\"start\" x=\"404.5\" y=\"-37.8\" font-family=\"Helvetica,sans-Serif\" font-size=\"14.00\">samples = 917</text>\n",
       "<text text-anchor=\"start\" x=\"395\" y=\"-22.8\" font-family=\"Helvetica,sans-Serif\" font-size=\"14.00\">value = [406, 511]</text>\n",
       "<text text-anchor=\"start\" x=\"422\" y=\"-7.8\" font-family=\"Helvetica,sans-Serif\" font-size=\"14.00\">class = 1</text>\n",
       "</g>\n",
       "<!-- 5&#45;&gt;7 -->\n",
       "<g id=\"edge7\" class=\"edge\">\n",
       "<title>5&#45;&gt;7</title>\n",
       "<path fill=\"none\" stroke=\"black\" d=\"M370.42,-103.73C381.23,-94.33 392.71,-84.35 403.49,-74.99\"/>\n",
       "<polygon fill=\"black\" stroke=\"black\" points=\"405.93,-77.5 411.18,-68.3 401.34,-72.22 405.93,-77.5\"/>\n",
       "</g>\n",
       "<!-- 9 -->\n",
       "<g id=\"node10\" class=\"node\">\n",
       "<title>9</title>\n",
       "<path fill=\"#81c1ee\" stroke=\"black\" d=\"M504.5,-179.5C504.5,-179.5 426.5,-179.5 426.5,-179.5 420.5,-179.5 414.5,-173.5 414.5,-167.5 414.5,-167.5 414.5,-123.5 414.5,-123.5 414.5,-117.5 420.5,-111.5 426.5,-111.5 426.5,-111.5 504.5,-111.5 504.5,-111.5 510.5,-111.5 516.5,-117.5 516.5,-123.5 516.5,-123.5 516.5,-167.5 516.5,-167.5 516.5,-173.5 510.5,-179.5 504.5,-179.5\"/>\n",
       "<text text-anchor=\"start\" x=\"430\" y=\"-164.3\" font-family=\"Helvetica,sans-Serif\" font-size=\"14.00\">gini = 0.391</text>\n",
       "<text text-anchor=\"start\" x=\"424.5\" y=\"-149.3\" font-family=\"Helvetica,sans-Serif\" font-size=\"14.00\">samples = 15</text>\n",
       "<text text-anchor=\"start\" x=\"422.5\" y=\"-134.3\" font-family=\"Helvetica,sans-Serif\" font-size=\"14.00\">value = [4, 11]</text>\n",
       "<text text-anchor=\"start\" x=\"438\" y=\"-119.3\" font-family=\"Helvetica,sans-Serif\" font-size=\"14.00\">class = 1</text>\n",
       "</g>\n",
       "<!-- 8&#45;&gt;9 -->\n",
       "<g id=\"edge9\" class=\"edge\">\n",
       "<title>8&#45;&gt;9</title>\n",
       "<path fill=\"none\" stroke=\"black\" d=\"M468.11,-222.91C467.75,-212.2 467.35,-200.62 466.98,-189.78\"/>\n",
       "<polygon fill=\"black\" stroke=\"black\" points=\"470.47,-189.54 466.63,-179.67 463.48,-189.78 470.47,-189.54\"/>\n",
       "</g>\n",
       "<!-- 10 -->\n",
       "<g id=\"node11\" class=\"node\">\n",
       "<title>10</title>\n",
       "<path fill=\"#3fa0e6\" stroke=\"black\" d=\"M624.5,-187C624.5,-187 546.5,-187 546.5,-187 540.5,-187 534.5,-181 534.5,-175 534.5,-175 534.5,-116 534.5,-116 534.5,-110 540.5,-104 546.5,-104 546.5,-104 624.5,-104 624.5,-104 630.5,-104 636.5,-110 636.5,-116 636.5,-116 636.5,-175 636.5,-175 636.5,-181 630.5,-187 624.5,-187\"/>\n",
       "<text text-anchor=\"start\" x=\"561\" y=\"-171.8\" font-family=\"Helvetica,sans-Serif\" font-size=\"14.00\">90 ≤ 0.5</text>\n",
       "<text text-anchor=\"start\" x=\"553.5\" y=\"-156.8\" font-family=\"Helvetica,sans-Serif\" font-size=\"14.00\">gini = 0.06</text>\n",
       "<text text-anchor=\"start\" x=\"544.5\" y=\"-141.8\" font-family=\"Helvetica,sans-Serif\" font-size=\"14.00\">samples = 65</text>\n",
       "<text text-anchor=\"start\" x=\"542.5\" y=\"-126.8\" font-family=\"Helvetica,sans-Serif\" font-size=\"14.00\">value = [2, 63]</text>\n",
       "<text text-anchor=\"start\" x=\"558\" y=\"-111.8\" font-family=\"Helvetica,sans-Serif\" font-size=\"14.00\">class = 1</text>\n",
       "</g>\n",
       "<!-- 8&#45;&gt;10 -->\n",
       "<g id=\"edge10\" class=\"edge\">\n",
       "<title>8&#45;&gt;10</title>\n",
       "<path fill=\"none\" stroke=\"black\" d=\"M509.75,-222.91C518.92,-213.65 528.76,-203.73 538.2,-194.21\"/>\n",
       "<polygon fill=\"black\" stroke=\"black\" points=\"540.77,-196.59 545.33,-187.02 535.8,-191.66 540.77,-196.59\"/>\n",
       "</g>\n",
       "<!-- 11 -->\n",
       "<g id=\"node12\" class=\"node\">\n",
       "<title>11</title>\n",
       "<path fill=\"#399de5\" stroke=\"black\" d=\"M622.5,-68C622.5,-68 544.5,-68 544.5,-68 538.5,-68 532.5,-62 532.5,-56 532.5,-56 532.5,-12 532.5,-12 532.5,-6 538.5,0 544.5,0 544.5,0 622.5,0 622.5,0 628.5,0 634.5,-6 634.5,-12 634.5,-12 634.5,-56 634.5,-56 634.5,-62 628.5,-68 622.5,-68\"/>\n",
       "<text text-anchor=\"start\" x=\"555.5\" y=\"-52.8\" font-family=\"Helvetica,sans-Serif\" font-size=\"14.00\">gini = 0.0</text>\n",
       "<text text-anchor=\"start\" x=\"542.5\" y=\"-37.8\" font-family=\"Helvetica,sans-Serif\" font-size=\"14.00\">samples = 50</text>\n",
       "<text text-anchor=\"start\" x=\"540.5\" y=\"-22.8\" font-family=\"Helvetica,sans-Serif\" font-size=\"14.00\">value = [0, 50]</text>\n",
       "<text text-anchor=\"start\" x=\"556\" y=\"-7.8\" font-family=\"Helvetica,sans-Serif\" font-size=\"14.00\">class = 1</text>\n",
       "</g>\n",
       "<!-- 10&#45;&gt;11 -->\n",
       "<g id=\"edge11\" class=\"edge\">\n",
       "<title>10&#45;&gt;11</title>\n",
       "<path fill=\"none\" stroke=\"black\" d=\"M584.76,-103.73C584.61,-95.52 584.45,-86.86 584.3,-78.56\"/>\n",
       "<polygon fill=\"black\" stroke=\"black\" points=\"587.79,-78.23 584.11,-68.3 580.79,-78.36 587.79,-78.23\"/>\n",
       "</g>\n",
       "<!-- 12 -->\n",
       "<g id=\"node13\" class=\"node\">\n",
       "<title>12</title>\n",
       "<path fill=\"#57ace9\" stroke=\"black\" d=\"M742.5,-68C742.5,-68 664.5,-68 664.5,-68 658.5,-68 652.5,-62 652.5,-56 652.5,-56 652.5,-12 652.5,-12 652.5,-6 658.5,0 664.5,0 664.5,0 742.5,0 742.5,0 748.5,0 754.5,-6 754.5,-12 754.5,-12 754.5,-56 754.5,-56 754.5,-62 748.5,-68 742.5,-68\"/>\n",
       "<text text-anchor=\"start\" x=\"668\" y=\"-52.8\" font-family=\"Helvetica,sans-Serif\" font-size=\"14.00\">gini = 0.231</text>\n",
       "<text text-anchor=\"start\" x=\"662.5\" y=\"-37.8\" font-family=\"Helvetica,sans-Serif\" font-size=\"14.00\">samples = 15</text>\n",
       "<text text-anchor=\"start\" x=\"660.5\" y=\"-22.8\" font-family=\"Helvetica,sans-Serif\" font-size=\"14.00\">value = [2, 13]</text>\n",
       "<text text-anchor=\"start\" x=\"676\" y=\"-7.8\" font-family=\"Helvetica,sans-Serif\" font-size=\"14.00\">class = 1</text>\n",
       "</g>\n",
       "<!-- 10&#45;&gt;12 -->\n",
       "<g id=\"edge12\" class=\"edge\">\n",
       "<title>10&#45;&gt;12</title>\n",
       "<path fill=\"none\" stroke=\"black\" d=\"M629.44,-103.73C639.46,-94.42 650.11,-84.54 660.11,-75.26\"/>\n",
       "<polygon fill=\"black\" stroke=\"black\" points=\"662.67,-77.67 667.62,-68.3 657.9,-72.54 662.67,-77.67\"/>\n",
       "</g>\n",
       "</g>\n",
       "</svg>\n"
      ],
      "text/plain": [
       "<graphviz.sources.Source at 0x7f7a91830ac0>"
      ]
     },
     "execution_count": 41,
     "metadata": {},
     "output_type": "execute_result"
    }
   ],
   "source": [
    "# create an iris.pdf file with the rule path\n",
    "clf = clf_dt.fit(X_train,y_train)\n",
    "\n",
    "column_names_full = X_train.columns\n",
    "\n",
    "dot_data = tree.export_graphviz(clf, out_file=None, \n",
    "                                feature_names=column_names_full,\n",
    "                                class_names=[\"0\",\"1\"],  \n",
    "                                filled=True, rounded=True,  \n",
    "                                special_characters=True)  \n",
    "graph = graphviz.Source(dot_data) \n",
    "graph.render(\"MI_full\")\n",
    "graph"
   ]
  },
  {
   "cell_type": "code",
   "execution_count": 42,
   "metadata": {
    "id": "bRdZV6TKOrOb",
    "outputId": "554d927f-3116-405f-8fd0-3e964a48e627"
   },
   "outputs": [
    {
     "data": {
      "image/svg+xml": [
       "<?xml version=\"1.0\" encoding=\"UTF-8\" standalone=\"no\"?>\n",
       "<!DOCTYPE svg PUBLIC \"-//W3C//DTD SVG 1.1//EN\"\n",
       " \"http://www.w3.org/Graphics/SVG/1.1/DTD/svg11.dtd\">\n",
       "<!-- Generated by graphviz version 2.50.0 (0)\n",
       " -->\n",
       "<!-- Title: Tree Pages: 1 -->\n",
       "<svg width=\"525pt\" height=\"314pt\"\n",
       " viewBox=\"0.00 0.00 524.50 314.00\" xmlns=\"http://www.w3.org/2000/svg\" xmlns:xlink=\"http://www.w3.org/1999/xlink\">\n",
       "<g id=\"graph0\" class=\"graph\" transform=\"scale(1 1) rotate(0) translate(4 310)\">\n",
       "<title>Tree</title>\n",
       "<polygon fill=\"white\" stroke=\"transparent\" points=\"-4,4 -4,-310 520.5,-310 520.5,4 -4,4\"/>\n",
       "<!-- 0 -->\n",
       "<g id=\"node1\" class=\"node\">\n",
       "<title>0</title>\n",
       "<path fill=\"#dbedfa\" stroke=\"black\" d=\"M326,-306C326,-306 225,-306 225,-306 219,-306 213,-300 213,-294 213,-294 213,-235 213,-235 213,-229 219,-223 225,-223 225,-223 326,-223 326,-223 332,-223 338,-229 338,-235 338,-235 338,-294 338,-294 338,-300 332,-306 326,-306\"/>\n",
       "<text text-anchor=\"start\" x=\"228.5\" y=\"-290.8\" font-family=\"Helvetica,sans-Serif\" font-size=\"14.00\">ZSN_A(1) ≤ 0.5</text>\n",
       "<text text-anchor=\"start\" x=\"240\" y=\"-275.8\" font-family=\"Helvetica,sans-Serif\" font-size=\"14.00\">gini = 0.495</text>\n",
       "<text text-anchor=\"start\" x=\"227\" y=\"-260.8\" font-family=\"Helvetica,sans-Serif\" font-size=\"14.00\">samples = 1340</text>\n",
       "<text text-anchor=\"start\" x=\"221\" y=\"-245.8\" font-family=\"Helvetica,sans-Serif\" font-size=\"14.00\">value = [602, 738]</text>\n",
       "<text text-anchor=\"start\" x=\"248\" y=\"-230.8\" font-family=\"Helvetica,sans-Serif\" font-size=\"14.00\">class = 1</text>\n",
       "</g>\n",
       "<!-- 1 -->\n",
       "<g id=\"node2\" class=\"node\">\n",
       "<title>1</title>\n",
       "<path fill=\"#ebf5fc\" stroke=\"black\" d=\"M252,-187C252,-187 151,-187 151,-187 145,-187 139,-181 139,-175 139,-175 139,-116 139,-116 139,-110 145,-104 151,-104 151,-104 252,-104 252,-104 258,-104 264,-110 264,-116 264,-116 264,-175 264,-175 264,-181 258,-187 252,-187\"/>\n",
       "<text text-anchor=\"start\" x=\"160\" y=\"-171.8\" font-family=\"Helvetica,sans-Serif\" font-size=\"14.00\">AGE ≤ &#45;0.742</text>\n",
       "<text text-anchor=\"start\" x=\"166\" y=\"-156.8\" font-family=\"Helvetica,sans-Serif\" font-size=\"14.00\">gini = 0.499</text>\n",
       "<text text-anchor=\"start\" x=\"153\" y=\"-141.8\" font-family=\"Helvetica,sans-Serif\" font-size=\"14.00\">samples = 1260</text>\n",
       "<text text-anchor=\"start\" x=\"147\" y=\"-126.8\" font-family=\"Helvetica,sans-Serif\" font-size=\"14.00\">value = [596, 664]</text>\n",
       "<text text-anchor=\"start\" x=\"174\" y=\"-111.8\" font-family=\"Helvetica,sans-Serif\" font-size=\"14.00\">class = 1</text>\n",
       "</g>\n",
       "<!-- 0&#45;&gt;1 -->\n",
       "<g id=\"edge1\" class=\"edge\">\n",
       "<title>0&#45;&gt;1</title>\n",
       "<path fill=\"none\" stroke=\"black\" d=\"M249.83,-222.91C244.26,-214.1 238.31,-204.7 232.56,-195.61\"/>\n",
       "<polygon fill=\"black\" stroke=\"black\" points=\"235.43,-193.6 227.13,-187.02 229.52,-197.34 235.43,-193.6\"/>\n",
       "<text text-anchor=\"middle\" x=\"221.64\" y=\"-207.71\" font-family=\"Helvetica,sans-Serif\" font-size=\"14.00\">True</text>\n",
       "</g>\n",
       "<!-- 4 -->\n",
       "<g id=\"node5\" class=\"node\">\n",
       "<title>4</title>\n",
       "<path fill=\"#49a5e7\" stroke=\"black\" d=\"M405,-187C405,-187 294,-187 294,-187 288,-187 282,-181 282,-175 282,-175 282,-116 282,-116 282,-110 288,-104 294,-104 294,-104 405,-104 405,-104 411,-104 417,-110 417,-116 417,-116 417,-175 417,-175 417,-181 411,-187 405,-187\"/>\n",
       "<text text-anchor=\"start\" x=\"290\" y=\"-171.8\" font-family=\"Helvetica,sans-Serif\" font-size=\"14.00\">K_BLOOD ≤ &#45;0.781</text>\n",
       "<text text-anchor=\"start\" x=\"314\" y=\"-156.8\" font-family=\"Helvetica,sans-Serif\" font-size=\"14.00\">gini = 0.139</text>\n",
       "<text text-anchor=\"start\" x=\"308.5\" y=\"-141.8\" font-family=\"Helvetica,sans-Serif\" font-size=\"14.00\">samples = 80</text>\n",
       "<text text-anchor=\"start\" x=\"306.5\" y=\"-126.8\" font-family=\"Helvetica,sans-Serif\" font-size=\"14.00\">value = [6, 74]</text>\n",
       "<text text-anchor=\"start\" x=\"322\" y=\"-111.8\" font-family=\"Helvetica,sans-Serif\" font-size=\"14.00\">class = 1</text>\n",
       "</g>\n",
       "<!-- 0&#45;&gt;4 -->\n",
       "<g id=\"edge4\" class=\"edge\">\n",
       "<title>0&#45;&gt;4</title>\n",
       "<path fill=\"none\" stroke=\"black\" d=\"M301.17,-222.91C306.74,-214.1 312.69,-204.7 318.44,-195.61\"/>\n",
       "<polygon fill=\"black\" stroke=\"black\" points=\"321.48,-197.34 323.87,-187.02 315.57,-193.6 321.48,-197.34\"/>\n",
       "<text text-anchor=\"middle\" x=\"329.36\" y=\"-207.71\" font-family=\"Helvetica,sans-Serif\" font-size=\"14.00\">False</text>\n",
       "</g>\n",
       "<!-- 2 -->\n",
       "<g id=\"node3\" class=\"node\">\n",
       "<title>2</title>\n",
       "<path fill=\"#f4c9aa\" stroke=\"black\" d=\"M113,-68C113,-68 12,-68 12,-68 6,-68 0,-62 0,-56 0,-56 0,-12 0,-12 0,-6 6,0 12,0 12,0 113,0 113,0 119,0 125,-6 125,-12 125,-12 125,-56 125,-56 125,-62 119,-68 113,-68\"/>\n",
       "<text text-anchor=\"start\" x=\"27\" y=\"-52.8\" font-family=\"Helvetica,sans-Serif\" font-size=\"14.00\">gini = 0.463</text>\n",
       "<text text-anchor=\"start\" x=\"17.5\" y=\"-37.8\" font-family=\"Helvetica,sans-Serif\" font-size=\"14.00\">samples = 289</text>\n",
       "<text text-anchor=\"start\" x=\"8\" y=\"-22.8\" font-family=\"Helvetica,sans-Serif\" font-size=\"14.00\">value = [184, 105]</text>\n",
       "<text text-anchor=\"start\" x=\"35\" y=\"-7.8\" font-family=\"Helvetica,sans-Serif\" font-size=\"14.00\">class = 0</text>\n",
       "</g>\n",
       "<!-- 1&#45;&gt;2 -->\n",
       "<g id=\"edge2\" class=\"edge\">\n",
       "<title>1&#45;&gt;2</title>\n",
       "<path fill=\"none\" stroke=\"black\" d=\"M149.74,-103.73C137.7,-94.24 124.9,-84.16 112.92,-74.72\"/>\n",
       "<polygon fill=\"black\" stroke=\"black\" points=\"114.79,-71.74 104.77,-68.3 110.46,-77.24 114.79,-71.74\"/>\n",
       "</g>\n",
       "<!-- 3 -->\n",
       "<g id=\"node4\" class=\"node\">\n",
       "<title>3</title>\n",
       "<path fill=\"#cbe5f8\" stroke=\"black\" d=\"M256,-68C256,-68 155,-68 155,-68 149,-68 143,-62 143,-56 143,-56 143,-12 143,-12 143,-6 149,0 155,0 155,0 256,0 256,0 262,0 268,-6 268,-12 268,-12 268,-56 268,-56 268,-62 262,-68 256,-68\"/>\n",
       "<text text-anchor=\"start\" x=\"170\" y=\"-52.8\" font-family=\"Helvetica,sans-Serif\" font-size=\"14.00\">gini = 0.489</text>\n",
       "<text text-anchor=\"start\" x=\"160.5\" y=\"-37.8\" font-family=\"Helvetica,sans-Serif\" font-size=\"14.00\">samples = 971</text>\n",
       "<text text-anchor=\"start\" x=\"151\" y=\"-22.8\" font-family=\"Helvetica,sans-Serif\" font-size=\"14.00\">value = [412, 559]</text>\n",
       "<text text-anchor=\"start\" x=\"178\" y=\"-7.8\" font-family=\"Helvetica,sans-Serif\" font-size=\"14.00\">class = 1</text>\n",
       "</g>\n",
       "<!-- 1&#45;&gt;3 -->\n",
       "<g id=\"edge3\" class=\"edge\">\n",
       "<title>1&#45;&gt;3</title>\n",
       "<path fill=\"none\" stroke=\"black\" d=\"M202.99,-103.73C203.29,-95.52 203.61,-86.86 203.91,-78.56\"/>\n",
       "<polygon fill=\"black\" stroke=\"black\" points=\"207.42,-78.42 204.28,-68.3 200.42,-78.17 207.42,-78.42\"/>\n",
       "</g>\n",
       "<!-- 5 -->\n",
       "<g id=\"node6\" class=\"node\">\n",
       "<title>5</title>\n",
       "<path fill=\"#81c1ee\" stroke=\"black\" d=\"M384.5,-68C384.5,-68 306.5,-68 306.5,-68 300.5,-68 294.5,-62 294.5,-56 294.5,-56 294.5,-12 294.5,-12 294.5,-6 300.5,0 306.5,0 306.5,0 384.5,0 384.5,0 390.5,0 396.5,-6 396.5,-12 396.5,-12 396.5,-56 396.5,-56 396.5,-62 390.5,-68 384.5,-68\"/>\n",
       "<text text-anchor=\"start\" x=\"310\" y=\"-52.8\" font-family=\"Helvetica,sans-Serif\" font-size=\"14.00\">gini = 0.391</text>\n",
       "<text text-anchor=\"start\" x=\"304.5\" y=\"-37.8\" font-family=\"Helvetica,sans-Serif\" font-size=\"14.00\">samples = 15</text>\n",
       "<text text-anchor=\"start\" x=\"302.5\" y=\"-22.8\" font-family=\"Helvetica,sans-Serif\" font-size=\"14.00\">value = [4, 11]</text>\n",
       "<text text-anchor=\"start\" x=\"318\" y=\"-7.8\" font-family=\"Helvetica,sans-Serif\" font-size=\"14.00\">class = 1</text>\n",
       "</g>\n",
       "<!-- 4&#45;&gt;5 -->\n",
       "<g id=\"edge5\" class=\"edge\">\n",
       "<title>4&#45;&gt;5</title>\n",
       "<path fill=\"none\" stroke=\"black\" d=\"M348.01,-103.73C347.71,-95.52 347.39,-86.86 347.09,-78.56\"/>\n",
       "<polygon fill=\"black\" stroke=\"black\" points=\"350.58,-78.17 346.72,-68.3 343.58,-78.42 350.58,-78.17\"/>\n",
       "</g>\n",
       "<!-- 6 -->\n",
       "<g id=\"node7\" class=\"node\">\n",
       "<title>6</title>\n",
       "<path fill=\"#3fa0e6\" stroke=\"black\" d=\"M504.5,-68C504.5,-68 426.5,-68 426.5,-68 420.5,-68 414.5,-62 414.5,-56 414.5,-56 414.5,-12 414.5,-12 414.5,-6 420.5,0 426.5,0 426.5,0 504.5,0 504.5,0 510.5,0 516.5,-6 516.5,-12 516.5,-12 516.5,-56 516.5,-56 516.5,-62 510.5,-68 504.5,-68\"/>\n",
       "<text text-anchor=\"start\" x=\"433.5\" y=\"-52.8\" font-family=\"Helvetica,sans-Serif\" font-size=\"14.00\">gini = 0.06</text>\n",
       "<text text-anchor=\"start\" x=\"424.5\" y=\"-37.8\" font-family=\"Helvetica,sans-Serif\" font-size=\"14.00\">samples = 65</text>\n",
       "<text text-anchor=\"start\" x=\"422.5\" y=\"-22.8\" font-family=\"Helvetica,sans-Serif\" font-size=\"14.00\">value = [2, 63]</text>\n",
       "<text text-anchor=\"start\" x=\"438\" y=\"-7.8\" font-family=\"Helvetica,sans-Serif\" font-size=\"14.00\">class = 1</text>\n",
       "</g>\n",
       "<!-- 4&#45;&gt;6 -->\n",
       "<g id=\"edge6\" class=\"edge\">\n",
       "<title>4&#45;&gt;6</title>\n",
       "<path fill=\"none\" stroke=\"black\" d=\"M392.69,-103.73C402.55,-94.42 413.02,-84.54 422.85,-75.26\"/>\n",
       "<polygon fill=\"black\" stroke=\"black\" points=\"425.35,-77.71 430.22,-68.3 420.55,-72.62 425.35,-77.71\"/>\n",
       "</g>\n",
       "</g>\n",
       "</svg>\n"
      ],
      "text/plain": [
       "<graphviz.sources.Source at 0x7f7a61341130>"
      ]
     },
     "execution_count": 42,
     "metadata": {},
     "output_type": "execute_result"
    }
   ],
   "source": [
    "# 10 features \n",
    "clf = clf_dt_10.fit(X_train_10,y_train)\n",
    "\n",
    "dot_data = tree.export_graphviz(clf, out_file=None, \n",
    "                                feature_names=[\"AGE\", \"S_AD_ORIT\", \"D_AD_ORIT\", \"K_BLOOD\", \"NA_BLOOD\", \"ALT_BLOOD\", \"AST_BLOOD\", \"L_BLOOD\", \"ROE\", \"ZSN_A(1)\"],\n",
    "                                class_names=[\"0\",\"1\"],  \n",
    "                                filled=True, rounded=True,  \n",
    "                                special_characters=True)  \n",
    "graph = graphviz.Source(dot_data) \n",
    "graph.render(\"MI_10\")\n",
    "graph"
   ]
  },
  {
   "cell_type": "code",
   "execution_count": 43,
   "metadata": {
    "id": "aeeO8DVeOrOb",
    "outputId": "fd20889b-c47a-4aa0-ba07-f0177ef54fcf",
    "scrolled": false
   },
   "outputs": [
    {
     "data": {
      "image/svg+xml": [
       "<?xml version=\"1.0\" encoding=\"UTF-8\" standalone=\"no\"?>\n",
       "<!DOCTYPE svg PUBLIC \"-//W3C//DTD SVG 1.1//EN\"\n",
       " \"http://www.w3.org/Graphics/SVG/1.1/DTD/svg11.dtd\">\n",
       "<!-- Generated by graphviz version 2.50.0 (0)\n",
       " -->\n",
       "<!-- Title: Tree Pages: 1 -->\n",
       "<svg width=\"1502pt\" height=\"671pt\"\n",
       " viewBox=\"0.00 0.00 1502.00 671.00\" xmlns=\"http://www.w3.org/2000/svg\" xmlns:xlink=\"http://www.w3.org/1999/xlink\">\n",
       "<g id=\"graph0\" class=\"graph\" transform=\"scale(1 1) rotate(0) translate(4 667)\">\n",
       "<title>Tree</title>\n",
       "<polygon fill=\"white\" stroke=\"transparent\" points=\"-4,4 -4,-667 1498,-667 1498,4 -4,4\"/>\n",
       "<!-- 0 -->\n",
       "<g id=\"node1\" class=\"node\">\n",
       "<title>0</title>\n",
       "<path fill=\"#dbedfa\" stroke=\"black\" d=\"M1081.5,-663C1081.5,-663 980.5,-663 980.5,-663 974.5,-663 968.5,-657 968.5,-651 968.5,-651 968.5,-592 968.5,-592 968.5,-586 974.5,-580 980.5,-580 980.5,-580 1081.5,-580 1081.5,-580 1087.5,-580 1093.5,-586 1093.5,-592 1093.5,-592 1093.5,-651 1093.5,-651 1093.5,-657 1087.5,-663 1081.5,-663\"/>\n",
       "<text text-anchor=\"start\" x=\"1006.5\" y=\"-647.8\" font-family=\"Helvetica,sans-Serif\" font-size=\"14.00\">41 ≤ 0.5</text>\n",
       "<text text-anchor=\"start\" x=\"995.5\" y=\"-632.8\" font-family=\"Helvetica,sans-Serif\" font-size=\"14.00\">gini = 0.495</text>\n",
       "<text text-anchor=\"start\" x=\"982.5\" y=\"-617.8\" font-family=\"Helvetica,sans-Serif\" font-size=\"14.00\">samples = 1340</text>\n",
       "<text text-anchor=\"start\" x=\"976.5\" y=\"-602.8\" font-family=\"Helvetica,sans-Serif\" font-size=\"14.00\">value = [602, 738]</text>\n",
       "<text text-anchor=\"start\" x=\"1003.5\" y=\"-587.8\" font-family=\"Helvetica,sans-Serif\" font-size=\"14.00\">class = 1</text>\n",
       "</g>\n",
       "<!-- 1 -->\n",
       "<g id=\"node2\" class=\"node\">\n",
       "<title>1</title>\n",
       "<path fill=\"#ebf5fc\" stroke=\"black\" d=\"M1007.5,-544C1007.5,-544 906.5,-544 906.5,-544 900.5,-544 894.5,-538 894.5,-532 894.5,-532 894.5,-473 894.5,-473 894.5,-467 900.5,-461 906.5,-461 906.5,-461 1007.5,-461 1007.5,-461 1013.5,-461 1019.5,-467 1019.5,-473 1019.5,-473 1019.5,-532 1019.5,-532 1019.5,-538 1013.5,-544 1007.5,-544\"/>\n",
       "<text text-anchor=\"start\" x=\"915.5\" y=\"-528.8\" font-family=\"Helvetica,sans-Serif\" font-size=\"14.00\">AGE ≤ &#45;0.742</text>\n",
       "<text text-anchor=\"start\" x=\"921.5\" y=\"-513.8\" font-family=\"Helvetica,sans-Serif\" font-size=\"14.00\">gini = 0.499</text>\n",
       "<text text-anchor=\"start\" x=\"908.5\" y=\"-498.8\" font-family=\"Helvetica,sans-Serif\" font-size=\"14.00\">samples = 1260</text>\n",
       "<text text-anchor=\"start\" x=\"902.5\" y=\"-483.8\" font-family=\"Helvetica,sans-Serif\" font-size=\"14.00\">value = [596, 664]</text>\n",
       "<text text-anchor=\"start\" x=\"929.5\" y=\"-468.8\" font-family=\"Helvetica,sans-Serif\" font-size=\"14.00\">class = 1</text>\n",
       "</g>\n",
       "<!-- 0&#45;&gt;1 -->\n",
       "<g id=\"edge1\" class=\"edge\">\n",
       "<title>0&#45;&gt;1</title>\n",
       "<path fill=\"none\" stroke=\"black\" d=\"M1005.33,-579.91C999.76,-571.1 993.81,-561.7 988.06,-552.61\"/>\n",
       "<polygon fill=\"black\" stroke=\"black\" points=\"990.93,-550.6 982.63,-544.02 985.02,-554.34 990.93,-550.6\"/>\n",
       "<text text-anchor=\"middle\" x=\"977.14\" y=\"-564.71\" font-family=\"Helvetica,sans-Serif\" font-size=\"14.00\">True</text>\n",
       "</g>\n",
       "<!-- 28 -->\n",
       "<g id=\"node29\" class=\"node\">\n",
       "<title>28</title>\n",
       "<path fill=\"#49a5e7\" stroke=\"black\" d=\"M1160.5,-544C1160.5,-544 1049.5,-544 1049.5,-544 1043.5,-544 1037.5,-538 1037.5,-532 1037.5,-532 1037.5,-473 1037.5,-473 1037.5,-467 1043.5,-461 1049.5,-461 1049.5,-461 1160.5,-461 1160.5,-461 1166.5,-461 1172.5,-467 1172.5,-473 1172.5,-473 1172.5,-532 1172.5,-532 1172.5,-538 1166.5,-544 1160.5,-544\"/>\n",
       "<text text-anchor=\"start\" x=\"1045.5\" y=\"-528.8\" font-family=\"Helvetica,sans-Serif\" font-size=\"14.00\">K_BLOOD ≤ &#45;0.781</text>\n",
       "<text text-anchor=\"start\" x=\"1069.5\" y=\"-513.8\" font-family=\"Helvetica,sans-Serif\" font-size=\"14.00\">gini = 0.139</text>\n",
       "<text text-anchor=\"start\" x=\"1064\" y=\"-498.8\" font-family=\"Helvetica,sans-Serif\" font-size=\"14.00\">samples = 80</text>\n",
       "<text text-anchor=\"start\" x=\"1062\" y=\"-483.8\" font-family=\"Helvetica,sans-Serif\" font-size=\"14.00\">value = [6, 74]</text>\n",
       "<text text-anchor=\"start\" x=\"1077.5\" y=\"-468.8\" font-family=\"Helvetica,sans-Serif\" font-size=\"14.00\">class = 1</text>\n",
       "</g>\n",
       "<!-- 0&#45;&gt;28 -->\n",
       "<g id=\"edge28\" class=\"edge\">\n",
       "<title>0&#45;&gt;28</title>\n",
       "<path fill=\"none\" stroke=\"black\" d=\"M1056.67,-579.91C1062.24,-571.1 1068.19,-561.7 1073.94,-552.61\"/>\n",
       "<polygon fill=\"black\" stroke=\"black\" points=\"1076.98,-554.34 1079.37,-544.02 1071.07,-550.6 1076.98,-554.34\"/>\n",
       "<text text-anchor=\"middle\" x=\"1084.86\" y=\"-564.71\" font-family=\"Helvetica,sans-Serif\" font-size=\"14.00\">False</text>\n",
       "</g>\n",
       "<!-- 2 -->\n",
       "<g id=\"node3\" class=\"node\">\n",
       "<title>2</title>\n",
       "<path fill=\"#f4c9aa\" stroke=\"black\" d=\"M643.5,-425C643.5,-425 542.5,-425 542.5,-425 536.5,-425 530.5,-419 530.5,-413 530.5,-413 530.5,-354 530.5,-354 530.5,-348 536.5,-342 542.5,-342 542.5,-342 643.5,-342 643.5,-342 649.5,-342 655.5,-348 655.5,-354 655.5,-354 655.5,-413 655.5,-413 655.5,-419 649.5,-425 643.5,-425\"/>\n",
       "<text text-anchor=\"start\" x=\"549.5\" y=\"-409.8\" font-family=\"Helvetica,sans-Serif\" font-size=\"14.00\">LID_S_n ≤ 0.5</text>\n",
       "<text text-anchor=\"start\" x=\"557.5\" y=\"-394.8\" font-family=\"Helvetica,sans-Serif\" font-size=\"14.00\">gini = 0.463</text>\n",
       "<text text-anchor=\"start\" x=\"548\" y=\"-379.8\" font-family=\"Helvetica,sans-Serif\" font-size=\"14.00\">samples = 289</text>\n",
       "<text text-anchor=\"start\" x=\"538.5\" y=\"-364.8\" font-family=\"Helvetica,sans-Serif\" font-size=\"14.00\">value = [184, 105]</text>\n",
       "<text text-anchor=\"start\" x=\"565.5\" y=\"-349.8\" font-family=\"Helvetica,sans-Serif\" font-size=\"14.00\">class = 0</text>\n",
       "</g>\n",
       "<!-- 1&#45;&gt;2 -->\n",
       "<g id=\"edge2\" class=\"edge\">\n",
       "<title>1&#45;&gt;2</title>\n",
       "<path fill=\"none\" stroke=\"black\" d=\"M894.43,-481.39C830.78,-460.93 732.26,-429.26 665.31,-407.74\"/>\n",
       "<polygon fill=\"black\" stroke=\"black\" points=\"666.26,-404.37 655.67,-404.64 664.12,-411.04 666.26,-404.37\"/>\n",
       "</g>\n",
       "<!-- 15 -->\n",
       "<g id=\"node16\" class=\"node\">\n",
       "<title>15</title>\n",
       "<path fill=\"#cbe5f8\" stroke=\"black\" d=\"M1013.5,-425C1013.5,-425 904.5,-425 904.5,-425 898.5,-425 892.5,-419 892.5,-413 892.5,-413 892.5,-354 892.5,-354 892.5,-348 898.5,-342 904.5,-342 904.5,-342 1013.5,-342 1013.5,-342 1019.5,-342 1025.5,-348 1025.5,-354 1025.5,-354 1025.5,-413 1025.5,-413 1025.5,-419 1019.5,-425 1013.5,-425\"/>\n",
       "<text text-anchor=\"start\" x=\"900.5\" y=\"-409.8\" font-family=\"Helvetica,sans-Serif\" font-size=\"14.00\">NA_R_3_n(0) ≤ 0.5</text>\n",
       "<text text-anchor=\"start\" x=\"923.5\" y=\"-394.8\" font-family=\"Helvetica,sans-Serif\" font-size=\"14.00\">gini = 0.489</text>\n",
       "<text text-anchor=\"start\" x=\"914\" y=\"-379.8\" font-family=\"Helvetica,sans-Serif\" font-size=\"14.00\">samples = 971</text>\n",
       "<text text-anchor=\"start\" x=\"904.5\" y=\"-364.8\" font-family=\"Helvetica,sans-Serif\" font-size=\"14.00\">value = [412, 559]</text>\n",
       "<text text-anchor=\"start\" x=\"931.5\" y=\"-349.8\" font-family=\"Helvetica,sans-Serif\" font-size=\"14.00\">class = 1</text>\n",
       "</g>\n",
       "<!-- 1&#45;&gt;15 -->\n",
       "<g id=\"edge15\" class=\"edge\">\n",
       "<title>1&#45;&gt;15</title>\n",
       "<path fill=\"none\" stroke=\"black\" d=\"M957.69,-460.91C957.84,-452.56 957.99,-443.67 958.14,-435.02\"/>\n",
       "<polygon fill=\"black\" stroke=\"black\" points=\"961.64,-435.08 958.31,-425.02 954.64,-434.96 961.64,-435.08\"/>\n",
       "</g>\n",
       "<!-- 3 -->\n",
       "<g id=\"node4\" class=\"node\">\n",
       "<title>3</title>\n",
       "<path fill=\"#efb488\" stroke=\"black\" d=\"M431.5,-306C431.5,-306 310.5,-306 310.5,-306 304.5,-306 298.5,-300 298.5,-294 298.5,-294 298.5,-235 298.5,-235 298.5,-229 304.5,-223 310.5,-223 310.5,-223 431.5,-223 431.5,-223 437.5,-223 443.5,-229 443.5,-235 443.5,-235 443.5,-294 443.5,-294 443.5,-300 437.5,-306 431.5,-306\"/>\n",
       "<text text-anchor=\"start\" x=\"306.5\" y=\"-290.8\" font-family=\"Helvetica,sans-Serif\" font-size=\"14.00\">NA_BLOOD ≤ &#45;0.066</text>\n",
       "<text text-anchor=\"start\" x=\"335.5\" y=\"-275.8\" font-family=\"Helvetica,sans-Serif\" font-size=\"14.00\">gini = 0.409</text>\n",
       "<text text-anchor=\"start\" x=\"326\" y=\"-260.8\" font-family=\"Helvetica,sans-Serif\" font-size=\"14.00\">samples = 199</text>\n",
       "<text text-anchor=\"start\" x=\"320.5\" y=\"-245.8\" font-family=\"Helvetica,sans-Serif\" font-size=\"14.00\">value = [142, 57]</text>\n",
       "<text text-anchor=\"start\" x=\"343.5\" y=\"-230.8\" font-family=\"Helvetica,sans-Serif\" font-size=\"14.00\">class = 0</text>\n",
       "</g>\n",
       "<!-- 2&#45;&gt;3 -->\n",
       "<g id=\"edge3\" class=\"edge\">\n",
       "<title>2&#45;&gt;3</title>\n",
       "<path fill=\"none\" stroke=\"black\" d=\"M530.27,-349.44C506.19,-336.75 478.34,-322.07 452.72,-308.57\"/>\n",
       "<polygon fill=\"black\" stroke=\"black\" points=\"454.25,-305.42 443.77,-303.85 450.98,-311.61 454.25,-305.42\"/>\n",
       "</g>\n",
       "<!-- 10 -->\n",
       "<g id=\"node11\" class=\"node\">\n",
       "<title>10</title>\n",
       "<path fill=\"#e6f3fc\" stroke=\"black\" d=\"M657,-306C657,-306 529,-306 529,-306 523,-306 517,-300 517,-294 517,-294 517,-235 517,-235 517,-229 523,-223 529,-223 529,-223 657,-223 657,-223 663,-223 669,-229 669,-235 669,-235 669,-294 669,-294 669,-300 663,-306 657,-306\"/>\n",
       "<text text-anchor=\"start\" x=\"525\" y=\"-290.8\" font-family=\"Helvetica,sans-Serif\" font-size=\"14.00\">AST_BLOOD ≤ &#45;0.541</text>\n",
       "<text text-anchor=\"start\" x=\"557.5\" y=\"-275.8\" font-family=\"Helvetica,sans-Serif\" font-size=\"14.00\">gini = 0.498</text>\n",
       "<text text-anchor=\"start\" x=\"552\" y=\"-260.8\" font-family=\"Helvetica,sans-Serif\" font-size=\"14.00\">samples = 90</text>\n",
       "<text text-anchor=\"start\" x=\"546\" y=\"-245.8\" font-family=\"Helvetica,sans-Serif\" font-size=\"14.00\">value = [42, 48]</text>\n",
       "<text text-anchor=\"start\" x=\"565.5\" y=\"-230.8\" font-family=\"Helvetica,sans-Serif\" font-size=\"14.00\">class = 1</text>\n",
       "</g>\n",
       "<!-- 2&#45;&gt;10 -->\n",
       "<g id=\"edge10\" class=\"edge\">\n",
       "<title>2&#45;&gt;10</title>\n",
       "<path fill=\"none\" stroke=\"black\" d=\"M593,-341.91C593,-333.65 593,-324.86 593,-316.3\"/>\n",
       "<polygon fill=\"black\" stroke=\"black\" points=\"596.5,-316.02 593,-306.02 589.5,-316.02 596.5,-316.02\"/>\n",
       "</g>\n",
       "<!-- 4 -->\n",
       "<g id=\"node5\" class=\"node\">\n",
       "<title>4</title>\n",
       "<path fill=\"#f4ccae\" stroke=\"black\" d=\"M239,-187C239,-187 111,-187 111,-187 105,-187 99,-181 99,-175 99,-175 99,-116 99,-116 99,-110 105,-104 111,-104 111,-104 239,-104 239,-104 245,-104 251,-110 251,-116 251,-116 251,-175 251,-175 251,-181 245,-187 239,-187\"/>\n",
       "<text text-anchor=\"start\" x=\"107\" y=\"-171.8\" font-family=\"Helvetica,sans-Serif\" font-size=\"14.00\">AST_BLOOD ≤ &#45;0.269</text>\n",
       "<text text-anchor=\"start\" x=\"139.5\" y=\"-156.8\" font-family=\"Helvetica,sans-Serif\" font-size=\"14.00\">gini = 0.467</text>\n",
       "<text text-anchor=\"start\" x=\"134\" y=\"-141.8\" font-family=\"Helvetica,sans-Serif\" font-size=\"14.00\">samples = 94</text>\n",
       "<text text-anchor=\"start\" x=\"128\" y=\"-126.8\" font-family=\"Helvetica,sans-Serif\" font-size=\"14.00\">value = [59, 35]</text>\n",
       "<text text-anchor=\"start\" x=\"147.5\" y=\"-111.8\" font-family=\"Helvetica,sans-Serif\" font-size=\"14.00\">class = 0</text>\n",
       "</g>\n",
       "<!-- 3&#45;&gt;4 -->\n",
       "<g id=\"edge4\" class=\"edge\">\n",
       "<title>3&#45;&gt;4</title>\n",
       "<path fill=\"none\" stroke=\"black\" d=\"M303,-222.91C286.43,-213.02 268.59,-202.37 251.65,-192.25\"/>\n",
       "<polygon fill=\"black\" stroke=\"black\" points=\"253.26,-189.14 242.88,-187.02 249.67,-195.15 253.26,-189.14\"/>\n",
       "</g>\n",
       "<!-- 7 -->\n",
       "<g id=\"node8\" class=\"node\">\n",
       "<title>7</title>\n",
       "<path fill=\"#eca26d\" stroke=\"black\" d=\"M414,-187C414,-187 328,-187 328,-187 322,-187 316,-181 316,-175 316,-175 316,-116 316,-116 316,-110 322,-104 328,-104 328,-104 414,-104 414,-104 420,-104 426,-110 426,-116 426,-116 426,-175 426,-175 426,-181 420,-187 414,-187\"/>\n",
       "<text text-anchor=\"start\" x=\"329\" y=\"-171.8\" font-family=\"Helvetica,sans-Serif\" font-size=\"14.00\">ROE ≤ &#45;0.085</text>\n",
       "<text text-anchor=\"start\" x=\"335.5\" y=\"-156.8\" font-family=\"Helvetica,sans-Serif\" font-size=\"14.00\">gini = 0.331</text>\n",
       "<text text-anchor=\"start\" x=\"326\" y=\"-141.8\" font-family=\"Helvetica,sans-Serif\" font-size=\"14.00\">samples = 105</text>\n",
       "<text text-anchor=\"start\" x=\"324\" y=\"-126.8\" font-family=\"Helvetica,sans-Serif\" font-size=\"14.00\">value = [83, 22]</text>\n",
       "<text text-anchor=\"start\" x=\"343.5\" y=\"-111.8\" font-family=\"Helvetica,sans-Serif\" font-size=\"14.00\">class = 0</text>\n",
       "</g>\n",
       "<!-- 3&#45;&gt;7 -->\n",
       "<g id=\"edge7\" class=\"edge\">\n",
       "<title>3&#45;&gt;7</title>\n",
       "<path fill=\"none\" stroke=\"black\" d=\"M371,-222.91C371,-214.65 371,-205.86 371,-197.3\"/>\n",
       "<polygon fill=\"black\" stroke=\"black\" points=\"374.5,-197.02 371,-187.02 367.5,-197.02 374.5,-197.02\"/>\n",
       "</g>\n",
       "<!-- 5 -->\n",
       "<g id=\"node6\" class=\"node\">\n",
       "<title>5</title>\n",
       "<path fill=\"#eca36e\" stroke=\"black\" d=\"M90,-68C90,-68 12,-68 12,-68 6,-68 0,-62 0,-56 0,-56 0,-12 0,-12 0,-6 6,0 12,0 12,0 90,0 90,0 96,0 102,-6 102,-12 102,-12 102,-56 102,-56 102,-62 96,-68 90,-68\"/>\n",
       "<text text-anchor=\"start\" x=\"15.5\" y=\"-52.8\" font-family=\"Helvetica,sans-Serif\" font-size=\"14.00\">gini = 0.334</text>\n",
       "<text text-anchor=\"start\" x=\"10\" y=\"-37.8\" font-family=\"Helvetica,sans-Serif\" font-size=\"14.00\">samples = 33</text>\n",
       "<text text-anchor=\"start\" x=\"8\" y=\"-22.8\" font-family=\"Helvetica,sans-Serif\" font-size=\"14.00\">value = [26, 7]</text>\n",
       "<text text-anchor=\"start\" x=\"23.5\" y=\"-7.8\" font-family=\"Helvetica,sans-Serif\" font-size=\"14.00\">class = 0</text>\n",
       "</g>\n",
       "<!-- 4&#45;&gt;5 -->\n",
       "<g id=\"edge5\" class=\"edge\">\n",
       "<title>4&#45;&gt;5</title>\n",
       "<path fill=\"none\" stroke=\"black\" d=\"M128.83,-103.73C118.19,-94.33 106.88,-84.35 96.28,-74.99\"/>\n",
       "<polygon fill=\"black\" stroke=\"black\" points=\"98.52,-72.3 88.71,-68.3 93.89,-77.54 98.52,-72.3\"/>\n",
       "</g>\n",
       "<!-- 6 -->\n",
       "<g id=\"node7\" class=\"node\">\n",
       "<title>6</title>\n",
       "<path fill=\"#fbece1\" stroke=\"black\" d=\"M218,-68C218,-68 132,-68 132,-68 126,-68 120,-62 120,-56 120,-56 120,-12 120,-12 120,-6 126,0 132,0 132,0 218,0 218,0 224,0 230,-6 230,-12 230,-12 230,-56 230,-56 230,-62 224,-68 218,-68\"/>\n",
       "<text text-anchor=\"start\" x=\"139.5\" y=\"-52.8\" font-family=\"Helvetica,sans-Serif\" font-size=\"14.00\">gini = 0.497</text>\n",
       "<text text-anchor=\"start\" x=\"134\" y=\"-37.8\" font-family=\"Helvetica,sans-Serif\" font-size=\"14.00\">samples = 61</text>\n",
       "<text text-anchor=\"start\" x=\"128\" y=\"-22.8\" font-family=\"Helvetica,sans-Serif\" font-size=\"14.00\">value = [33, 28]</text>\n",
       "<text text-anchor=\"start\" x=\"147.5\" y=\"-7.8\" font-family=\"Helvetica,sans-Serif\" font-size=\"14.00\">class = 0</text>\n",
       "</g>\n",
       "<!-- 4&#45;&gt;6 -->\n",
       "<g id=\"edge6\" class=\"edge\">\n",
       "<title>4&#45;&gt;6</title>\n",
       "<path fill=\"none\" stroke=\"black\" d=\"M175,-103.73C175,-95.52 175,-86.86 175,-78.56\"/>\n",
       "<polygon fill=\"black\" stroke=\"black\" points=\"178.5,-78.3 175,-68.3 171.5,-78.3 178.5,-78.3\"/>\n",
       "</g>\n",
       "<!-- 8 -->\n",
       "<g id=\"node9\" class=\"node\">\n",
       "<title>8</title>\n",
       "<path fill=\"#ea975c\" stroke=\"black\" d=\"M346,-68C346,-68 260,-68 260,-68 254,-68 248,-62 248,-56 248,-56 248,-12 248,-12 248,-6 254,0 260,0 260,0 346,0 346,0 352,0 358,-6 358,-12 358,-12 358,-56 358,-56 358,-62 352,-68 346,-68\"/>\n",
       "<text text-anchor=\"start\" x=\"267.5\" y=\"-52.8\" font-family=\"Helvetica,sans-Serif\" font-size=\"14.00\">gini = 0.256</text>\n",
       "<text text-anchor=\"start\" x=\"262\" y=\"-37.8\" font-family=\"Helvetica,sans-Serif\" font-size=\"14.00\">samples = 73</text>\n",
       "<text text-anchor=\"start\" x=\"256\" y=\"-22.8\" font-family=\"Helvetica,sans-Serif\" font-size=\"14.00\">value = [62, 11]</text>\n",
       "<text text-anchor=\"start\" x=\"275.5\" y=\"-7.8\" font-family=\"Helvetica,sans-Serif\" font-size=\"14.00\">class = 0</text>\n",
       "</g>\n",
       "<!-- 7&#45;&gt;8 -->\n",
       "<g id=\"edge8\" class=\"edge\">\n",
       "<title>7&#45;&gt;8</title>\n",
       "<path fill=\"none\" stroke=\"black\" d=\"M345.68,-103.73C340.24,-94.97 334.49,-85.7 329.02,-76.91\"/>\n",
       "<polygon fill=\"black\" stroke=\"black\" points=\"331.93,-74.95 323.68,-68.3 325.98,-78.64 331.93,-74.95\"/>\n",
       "</g>\n",
       "<!-- 9 -->\n",
       "<g id=\"node10\" class=\"node\">\n",
       "<title>9</title>\n",
       "<path fill=\"#f3c3a1\" stroke=\"black\" d=\"M474,-68C474,-68 388,-68 388,-68 382,-68 376,-62 376,-56 376,-56 376,-12 376,-12 376,-6 382,0 388,0 388,0 474,0 474,0 480,0 486,-6 486,-12 486,-12 486,-56 486,-56 486,-62 480,-68 474,-68\"/>\n",
       "<text text-anchor=\"start\" x=\"395.5\" y=\"-52.8\" font-family=\"Helvetica,sans-Serif\" font-size=\"14.00\">gini = 0.451</text>\n",
       "<text text-anchor=\"start\" x=\"390\" y=\"-37.8\" font-family=\"Helvetica,sans-Serif\" font-size=\"14.00\">samples = 32</text>\n",
       "<text text-anchor=\"start\" x=\"384\" y=\"-22.8\" font-family=\"Helvetica,sans-Serif\" font-size=\"14.00\">value = [21, 11]</text>\n",
       "<text text-anchor=\"start\" x=\"403.5\" y=\"-7.8\" font-family=\"Helvetica,sans-Serif\" font-size=\"14.00\">class = 0</text>\n",
       "</g>\n",
       "<!-- 7&#45;&gt;9 -->\n",
       "<g id=\"edge9\" class=\"edge\">\n",
       "<title>7&#45;&gt;9</title>\n",
       "<path fill=\"none\" stroke=\"black\" d=\"M393.34,-103.73C398.09,-95.06 403.11,-85.9 407.89,-77.18\"/>\n",
       "<polygon fill=\"black\" stroke=\"black\" points=\"411.02,-78.75 412.75,-68.3 404.88,-75.39 411.02,-78.75\"/>\n",
       "</g>\n",
       "<!-- 11 -->\n",
       "<g id=\"node12\" class=\"node\">\n",
       "<title>11</title>\n",
       "<path fill=\"#f1ba92\" stroke=\"black\" d=\"M550,-179.5C550,-179.5 472,-179.5 472,-179.5 466,-179.5 460,-173.5 460,-167.5 460,-167.5 460,-123.5 460,-123.5 460,-117.5 466,-111.5 472,-111.5 472,-111.5 550,-111.5 550,-111.5 556,-111.5 562,-117.5 562,-123.5 562,-123.5 562,-167.5 562,-167.5 562,-173.5 556,-179.5 550,-179.5\"/>\n",
       "<text text-anchor=\"start\" x=\"475.5\" y=\"-164.3\" font-family=\"Helvetica,sans-Serif\" font-size=\"14.00\">gini = 0.428</text>\n",
       "<text text-anchor=\"start\" x=\"470\" y=\"-149.3\" font-family=\"Helvetica,sans-Serif\" font-size=\"14.00\">samples = 29</text>\n",
       "<text text-anchor=\"start\" x=\"468\" y=\"-134.3\" font-family=\"Helvetica,sans-Serif\" font-size=\"14.00\">value = [20, 9]</text>\n",
       "<text text-anchor=\"start\" x=\"483.5\" y=\"-119.3\" font-family=\"Helvetica,sans-Serif\" font-size=\"14.00\">class = 0</text>\n",
       "</g>\n",
       "<!-- 10&#45;&gt;11 -->\n",
       "<g id=\"edge11\" class=\"edge\">\n",
       "<title>10&#45;&gt;11</title>\n",
       "<path fill=\"none\" stroke=\"black\" d=\"M564.55,-222.91C556.66,-211.65 548.09,-199.42 540.16,-188.11\"/>\n",
       "<polygon fill=\"black\" stroke=\"black\" points=\"542.85,-185.85 534.25,-179.67 537.12,-189.86 542.85,-185.85\"/>\n",
       "</g>\n",
       "<!-- 12 -->\n",
       "<g id=\"node13\" class=\"node\">\n",
       "<title>12</title>\n",
       "<path fill=\"#a9d4f4\" stroke=\"black\" d=\"M703.5,-187C703.5,-187 592.5,-187 592.5,-187 586.5,-187 580.5,-181 580.5,-175 580.5,-175 580.5,-116 580.5,-116 580.5,-110 586.5,-104 592.5,-104 592.5,-104 703.5,-104 703.5,-104 709.5,-104 715.5,-110 715.5,-116 715.5,-116 715.5,-175 715.5,-175 715.5,-181 709.5,-187 703.5,-187\"/>\n",
       "<text text-anchor=\"start\" x=\"588.5\" y=\"-171.8\" font-family=\"Helvetica,sans-Serif\" font-size=\"14.00\">K_BLOOD ≤ &#45;0.492</text>\n",
       "<text text-anchor=\"start\" x=\"612.5\" y=\"-156.8\" font-family=\"Helvetica,sans-Serif\" font-size=\"14.00\">gini = 0.461</text>\n",
       "<text text-anchor=\"start\" x=\"607\" y=\"-141.8\" font-family=\"Helvetica,sans-Serif\" font-size=\"14.00\">samples = 61</text>\n",
       "<text text-anchor=\"start\" x=\"601\" y=\"-126.8\" font-family=\"Helvetica,sans-Serif\" font-size=\"14.00\">value = [22, 39]</text>\n",
       "<text text-anchor=\"start\" x=\"620.5\" y=\"-111.8\" font-family=\"Helvetica,sans-Serif\" font-size=\"14.00\">class = 1</text>\n",
       "</g>\n",
       "<!-- 10&#45;&gt;12 -->\n",
       "<g id=\"edge12\" class=\"edge\">\n",
       "<title>10&#45;&gt;12</title>\n",
       "<path fill=\"none\" stroke=\"black\" d=\"M612.08,-222.91C616.13,-214.29 620.46,-205.09 624.65,-196.17\"/>\n",
       "<polygon fill=\"black\" stroke=\"black\" points=\"627.86,-197.56 628.95,-187.02 621.53,-194.58 627.86,-197.56\"/>\n",
       "</g>\n",
       "<!-- 13 -->\n",
       "<g id=\"node14\" class=\"node\">\n",
       "<title>13</title>\n",
       "<path fill=\"#5dafea\" stroke=\"black\" d=\"M594,-68C594,-68 516,-68 516,-68 510,-68 504,-62 504,-56 504,-56 504,-12 504,-12 504,-6 510,0 516,0 516,0 594,0 594,0 600,0 606,-6 606,-12 606,-12 606,-56 606,-56 606,-62 600,-68 594,-68\"/>\n",
       "<text text-anchor=\"start\" x=\"523\" y=\"-52.8\" font-family=\"Helvetica,sans-Serif\" font-size=\"14.00\">gini = 0.26</text>\n",
       "<text text-anchor=\"start\" x=\"514\" y=\"-37.8\" font-family=\"Helvetica,sans-Serif\" font-size=\"14.00\">samples = 26</text>\n",
       "<text text-anchor=\"start\" x=\"512\" y=\"-22.8\" font-family=\"Helvetica,sans-Serif\" font-size=\"14.00\">value = [4, 22]</text>\n",
       "<text text-anchor=\"start\" x=\"527.5\" y=\"-7.8\" font-family=\"Helvetica,sans-Serif\" font-size=\"14.00\">class = 1</text>\n",
       "</g>\n",
       "<!-- 12&#45;&gt;13 -->\n",
       "<g id=\"edge13\" class=\"edge\">\n",
       "<title>12&#45;&gt;13</title>\n",
       "<path fill=\"none\" stroke=\"black\" d=\"M613.37,-103.73C605.7,-94.7 597.57,-85.12 589.89,-76.08\"/>\n",
       "<polygon fill=\"black\" stroke=\"black\" points=\"592.42,-73.66 583.28,-68.3 587.09,-78.19 592.42,-73.66\"/>\n",
       "</g>\n",
       "<!-- 14 -->\n",
       "<g id=\"node15\" class=\"node\">\n",
       "<title>14</title>\n",
       "<path fill=\"#fef8f4\" stroke=\"black\" d=\"M722,-68C722,-68 636,-68 636,-68 630,-68 624,-62 624,-56 624,-56 624,-12 624,-12 624,-6 630,0 636,0 636,0 722,0 722,0 728,0 734,-6 734,-12 734,-12 734,-56 734,-56 734,-62 728,-68 722,-68\"/>\n",
       "<text text-anchor=\"start\" x=\"651\" y=\"-52.8\" font-family=\"Helvetica,sans-Serif\" font-size=\"14.00\">gini = 0.5</text>\n",
       "<text text-anchor=\"start\" x=\"638\" y=\"-37.8\" font-family=\"Helvetica,sans-Serif\" font-size=\"14.00\">samples = 35</text>\n",
       "<text text-anchor=\"start\" x=\"632\" y=\"-22.8\" font-family=\"Helvetica,sans-Serif\" font-size=\"14.00\">value = [18, 17]</text>\n",
       "<text text-anchor=\"start\" x=\"651.5\" y=\"-7.8\" font-family=\"Helvetica,sans-Serif\" font-size=\"14.00\">class = 0</text>\n",
       "</g>\n",
       "<!-- 12&#45;&gt;14 -->\n",
       "<g id=\"edge14\" class=\"edge\">\n",
       "<title>12&#45;&gt;14</title>\n",
       "<path fill=\"none\" stroke=\"black\" d=\"M659.54,-103.73C661.92,-95.34 664.43,-86.47 666.82,-78.01\"/>\n",
       "<polygon fill=\"black\" stroke=\"black\" points=\"670.22,-78.87 669.57,-68.3 663.48,-76.97 670.22,-78.87\"/>\n",
       "</g>\n",
       "<!-- 16 -->\n",
       "<g id=\"node17\" class=\"node\">\n",
       "<title>16</title>\n",
       "<path fill=\"#52a9e8\" stroke=\"black\" d=\"M1018,-306C1018,-306 900,-306 900,-306 894,-306 888,-300 888,-294 888,-294 888,-235 888,-235 888,-229 894,-223 900,-223 900,-223 1018,-223 1018,-223 1024,-223 1030,-229 1030,-235 1030,-235 1030,-294 1030,-294 1030,-300 1024,-306 1018,-306\"/>\n",
       "<text text-anchor=\"start\" x=\"896\" y=\"-290.8\" font-family=\"Helvetica,sans-Serif\" font-size=\"14.00\">D_AD_ORIT ≤ 0.763</text>\n",
       "<text text-anchor=\"start\" x=\"923.5\" y=\"-275.8\" font-family=\"Helvetica,sans-Serif\" font-size=\"14.00\">gini = 0.198</text>\n",
       "<text text-anchor=\"start\" x=\"918\" y=\"-260.8\" font-family=\"Helvetica,sans-Serif\" font-size=\"14.00\">samples = 54</text>\n",
       "<text text-anchor=\"start\" x=\"916\" y=\"-245.8\" font-family=\"Helvetica,sans-Serif\" font-size=\"14.00\">value = [6, 48]</text>\n",
       "<text text-anchor=\"start\" x=\"931.5\" y=\"-230.8\" font-family=\"Helvetica,sans-Serif\" font-size=\"14.00\">class = 1</text>\n",
       "</g>\n",
       "<!-- 15&#45;&gt;16 -->\n",
       "<g id=\"edge16\" class=\"edge\">\n",
       "<title>15&#45;&gt;16</title>\n",
       "<path fill=\"none\" stroke=\"black\" d=\"M959,-341.91C959,-333.65 959,-324.86 959,-316.3\"/>\n",
       "<polygon fill=\"black\" stroke=\"black\" points=\"962.5,-316.02 959,-306.02 955.5,-316.02 962.5,-316.02\"/>\n",
       "</g>\n",
       "<!-- 21 -->\n",
       "<g id=\"node22\" class=\"node\">\n",
       "<title>21</title>\n",
       "<path fill=\"#d6ebfa\" stroke=\"black\" d=\"M1162.5,-306C1162.5,-306 1061.5,-306 1061.5,-306 1055.5,-306 1049.5,-300 1049.5,-294 1049.5,-294 1049.5,-235 1049.5,-235 1049.5,-229 1055.5,-223 1061.5,-223 1061.5,-223 1162.5,-223 1162.5,-223 1168.5,-223 1174.5,-229 1174.5,-235 1174.5,-235 1174.5,-294 1174.5,-294 1174.5,-300 1168.5,-306 1162.5,-306\"/>\n",
       "<text text-anchor=\"start\" x=\"1072.5\" y=\"-290.8\" font-family=\"Helvetica,sans-Serif\" font-size=\"14.00\">AGE ≤ 1.125</text>\n",
       "<text text-anchor=\"start\" x=\"1076.5\" y=\"-275.8\" font-family=\"Helvetica,sans-Serif\" font-size=\"14.00\">gini = 0.493</text>\n",
       "<text text-anchor=\"start\" x=\"1067\" y=\"-260.8\" font-family=\"Helvetica,sans-Serif\" font-size=\"14.00\">samples = 917</text>\n",
       "<text text-anchor=\"start\" x=\"1057.5\" y=\"-245.8\" font-family=\"Helvetica,sans-Serif\" font-size=\"14.00\">value = [406, 511]</text>\n",
       "<text text-anchor=\"start\" x=\"1084.5\" y=\"-230.8\" font-family=\"Helvetica,sans-Serif\" font-size=\"14.00\">class = 1</text>\n",
       "</g>\n",
       "<!-- 15&#45;&gt;21 -->\n",
       "<g id=\"edge21\" class=\"edge\">\n",
       "<title>15&#45;&gt;21</title>\n",
       "<path fill=\"none\" stroke=\"black\" d=\"M1012.08,-341.91C1024.54,-332.38 1037.92,-322.15 1050.71,-312.37\"/>\n",
       "<polygon fill=\"black\" stroke=\"black\" points=\"1053.19,-314.88 1059.01,-306.02 1048.94,-309.32 1053.19,-314.88\"/>\n",
       "</g>\n",
       "<!-- 17 -->\n",
       "<g id=\"node18\" class=\"node\">\n",
       "<title>17</title>\n",
       "<path fill=\"#3ea0e6\" stroke=\"black\" d=\"M888.5,-187C888.5,-187 777.5,-187 777.5,-187 771.5,-187 765.5,-181 765.5,-175 765.5,-175 765.5,-116 765.5,-116 765.5,-110 771.5,-104 777.5,-104 777.5,-104 888.5,-104 888.5,-104 894.5,-104 900.5,-110 900.5,-116 900.5,-116 900.5,-175 900.5,-175 900.5,-181 894.5,-187 888.5,-187\"/>\n",
       "<text text-anchor=\"start\" x=\"773.5\" y=\"-171.8\" font-family=\"Helvetica,sans-Serif\" font-size=\"14.00\">K_BLOOD ≤ &#45;0.245</text>\n",
       "<text text-anchor=\"start\" x=\"797.5\" y=\"-156.8\" font-family=\"Helvetica,sans-Serif\" font-size=\"14.00\">gini = 0.053</text>\n",
       "<text text-anchor=\"start\" x=\"792\" y=\"-141.8\" font-family=\"Helvetica,sans-Serif\" font-size=\"14.00\">samples = 37</text>\n",
       "<text text-anchor=\"start\" x=\"790\" y=\"-126.8\" font-family=\"Helvetica,sans-Serif\" font-size=\"14.00\">value = [1, 36]</text>\n",
       "<text text-anchor=\"start\" x=\"805.5\" y=\"-111.8\" font-family=\"Helvetica,sans-Serif\" font-size=\"14.00\">class = 1</text>\n",
       "</g>\n",
       "<!-- 16&#45;&gt;17 -->\n",
       "<g id=\"edge17\" class=\"edge\">\n",
       "<title>16&#45;&gt;17</title>\n",
       "<path fill=\"none\" stroke=\"black\" d=\"M915.28,-222.91C905.22,-213.56 894.43,-203.54 884.08,-193.93\"/>\n",
       "<polygon fill=\"black\" stroke=\"black\" points=\"886.35,-191.26 876.64,-187.02 881.58,-196.39 886.35,-191.26\"/>\n",
       "</g>\n",
       "<!-- 20 -->\n",
       "<g id=\"node21\" class=\"node\">\n",
       "<title>20</title>\n",
       "<path fill=\"#8bc6f0\" stroke=\"black\" d=\"M1009,-179.5C1009,-179.5 931,-179.5 931,-179.5 925,-179.5 919,-173.5 919,-167.5 919,-167.5 919,-123.5 919,-123.5 919,-117.5 925,-111.5 931,-111.5 931,-111.5 1009,-111.5 1009,-111.5 1015,-111.5 1021,-117.5 1021,-123.5 1021,-123.5 1021,-167.5 1021,-167.5 1021,-173.5 1015,-179.5 1009,-179.5\"/>\n",
       "<text text-anchor=\"start\" x=\"934.5\" y=\"-164.3\" font-family=\"Helvetica,sans-Serif\" font-size=\"14.00\">gini = 0.415</text>\n",
       "<text text-anchor=\"start\" x=\"929\" y=\"-149.3\" font-family=\"Helvetica,sans-Serif\" font-size=\"14.00\">samples = 17</text>\n",
       "<text text-anchor=\"start\" x=\"927\" y=\"-134.3\" font-family=\"Helvetica,sans-Serif\" font-size=\"14.00\">value = [5, 12]</text>\n",
       "<text text-anchor=\"start\" x=\"942.5\" y=\"-119.3\" font-family=\"Helvetica,sans-Serif\" font-size=\"14.00\">class = 1</text>\n",
       "</g>\n",
       "<!-- 16&#45;&gt;20 -->\n",
       "<g id=\"edge20\" class=\"edge\">\n",
       "<title>16&#45;&gt;20</title>\n",
       "<path fill=\"none\" stroke=\"black\" d=\"M962.82,-222.91C963.82,-212.2 964.91,-200.62 965.93,-189.78\"/>\n",
       "<polygon fill=\"black\" stroke=\"black\" points=\"969.43,-189.95 966.88,-179.67 962.46,-189.3 969.43,-189.95\"/>\n",
       "</g>\n",
       "<!-- 18 -->\n",
       "<g id=\"node19\" class=\"node\">\n",
       "<title>18</title>\n",
       "<path fill=\"#399de5\" stroke=\"black\" d=\"M842,-68C842,-68 764,-68 764,-68 758,-68 752,-62 752,-56 752,-56 752,-12 752,-12 752,-6 758,0 764,0 764,0 842,0 842,0 848,0 854,-6 854,-12 854,-12 854,-56 854,-56 854,-62 848,-68 842,-68\"/>\n",
       "<text text-anchor=\"start\" x=\"775\" y=\"-52.8\" font-family=\"Helvetica,sans-Serif\" font-size=\"14.00\">gini = 0.0</text>\n",
       "<text text-anchor=\"start\" x=\"762\" y=\"-37.8\" font-family=\"Helvetica,sans-Serif\" font-size=\"14.00\">samples = 22</text>\n",
       "<text text-anchor=\"start\" x=\"760\" y=\"-22.8\" font-family=\"Helvetica,sans-Serif\" font-size=\"14.00\">value = [0, 22]</text>\n",
       "<text text-anchor=\"start\" x=\"775.5\" y=\"-7.8\" font-family=\"Helvetica,sans-Serif\" font-size=\"14.00\">class = 1</text>\n",
       "</g>\n",
       "<!-- 17&#45;&gt;18 -->\n",
       "<g id=\"edge18\" class=\"edge\">\n",
       "<title>17&#45;&gt;18</title>\n",
       "<path fill=\"none\" stroke=\"black\" d=\"M821.83,-103.73C819.53,-95.34 817.1,-86.47 814.78,-78.01\"/>\n",
       "<polygon fill=\"black\" stroke=\"black\" points=\"818.14,-77.02 812.12,-68.3 811.39,-78.87 818.14,-77.02\"/>\n",
       "</g>\n",
       "<!-- 19 -->\n",
       "<g id=\"node20\" class=\"node\">\n",
       "<title>19</title>\n",
       "<path fill=\"#47a4e7\" stroke=\"black\" d=\"M962,-68C962,-68 884,-68 884,-68 878,-68 872,-62 872,-56 872,-56 872,-12 872,-12 872,-6 878,0 884,0 884,0 962,0 962,0 968,0 974,-6 974,-12 974,-12 974,-56 974,-56 974,-62 968,-68 962,-68\"/>\n",
       "<text text-anchor=\"start\" x=\"887.5\" y=\"-52.8\" font-family=\"Helvetica,sans-Serif\" font-size=\"14.00\">gini = 0.124</text>\n",
       "<text text-anchor=\"start\" x=\"882\" y=\"-37.8\" font-family=\"Helvetica,sans-Serif\" font-size=\"14.00\">samples = 15</text>\n",
       "<text text-anchor=\"start\" x=\"880\" y=\"-22.8\" font-family=\"Helvetica,sans-Serif\" font-size=\"14.00\">value = [1, 14]</text>\n",
       "<text text-anchor=\"start\" x=\"895.5\" y=\"-7.8\" font-family=\"Helvetica,sans-Serif\" font-size=\"14.00\">class = 1</text>\n",
       "</g>\n",
       "<!-- 17&#45;&gt;19 -->\n",
       "<g id=\"edge19\" class=\"edge\">\n",
       "<title>17&#45;&gt;19</title>\n",
       "<path fill=\"none\" stroke=\"black\" d=\"M866.51,-103.73C873.93,-94.7 881.8,-85.12 889.23,-76.08\"/>\n",
       "<polygon fill=\"black\" stroke=\"black\" points=\"891.98,-78.25 895.63,-68.3 886.58,-73.8 891.98,-78.25\"/>\n",
       "</g>\n",
       "<!-- 22 -->\n",
       "<g id=\"node23\" class=\"node\">\n",
       "<title>22</title>\n",
       "<path fill=\"#eef7fd\" stroke=\"black\" d=\"M1162.5,-187C1162.5,-187 1061.5,-187 1061.5,-187 1055.5,-187 1049.5,-181 1049.5,-175 1049.5,-175 1049.5,-116 1049.5,-116 1049.5,-110 1055.5,-104 1061.5,-104 1061.5,-104 1162.5,-104 1162.5,-104 1168.5,-104 1174.5,-110 1174.5,-116 1174.5,-116 1174.5,-175 1174.5,-175 1174.5,-181 1168.5,-187 1162.5,-187\"/>\n",
       "<text text-anchor=\"start\" x=\"1060\" y=\"-171.8\" font-family=\"Helvetica,sans-Serif\" font-size=\"14.00\">zab_leg_02 ≤ 0.5</text>\n",
       "<text text-anchor=\"start\" x=\"1076.5\" y=\"-156.8\" font-family=\"Helvetica,sans-Serif\" font-size=\"14.00\">gini = 0.499</text>\n",
       "<text text-anchor=\"start\" x=\"1067\" y=\"-141.8\" font-family=\"Helvetica,sans-Serif\" font-size=\"14.00\">samples = 752</text>\n",
       "<text text-anchor=\"start\" x=\"1057.5\" y=\"-126.8\" font-family=\"Helvetica,sans-Serif\" font-size=\"14.00\">value = [359, 393]</text>\n",
       "<text text-anchor=\"start\" x=\"1084.5\" y=\"-111.8\" font-family=\"Helvetica,sans-Serif\" font-size=\"14.00\">class = 1</text>\n",
       "</g>\n",
       "<!-- 21&#45;&gt;22 -->\n",
       "<g id=\"edge22\" class=\"edge\">\n",
       "<title>21&#45;&gt;22</title>\n",
       "<path fill=\"none\" stroke=\"black\" d=\"M1112,-222.91C1112,-214.65 1112,-205.86 1112,-197.3\"/>\n",
       "<polygon fill=\"black\" stroke=\"black\" points=\"1115.5,-197.02 1112,-187.02 1108.5,-197.02 1115.5,-197.02\"/>\n",
       "</g>\n",
       "<!-- 25 -->\n",
       "<g id=\"node26\" class=\"node\">\n",
       "<title>25</title>\n",
       "<path fill=\"#88c4ef\" stroke=\"black\" d=\"M1370.5,-187C1370.5,-187 1259.5,-187 1259.5,-187 1253.5,-187 1247.5,-181 1247.5,-175 1247.5,-175 1247.5,-116 1247.5,-116 1247.5,-110 1253.5,-104 1259.5,-104 1259.5,-104 1370.5,-104 1370.5,-104 1376.5,-104 1382.5,-110 1382.5,-116 1382.5,-116 1382.5,-175 1382.5,-175 1382.5,-181 1376.5,-187 1370.5,-187\"/>\n",
       "<text text-anchor=\"start\" x=\"1255.5\" y=\"-171.8\" font-family=\"Helvetica,sans-Serif\" font-size=\"14.00\">K_BLOOD ≤ &#45;0.578</text>\n",
       "<text text-anchor=\"start\" x=\"1279.5\" y=\"-156.8\" font-family=\"Helvetica,sans-Serif\" font-size=\"14.00\">gini = 0.407</text>\n",
       "<text text-anchor=\"start\" x=\"1270\" y=\"-141.8\" font-family=\"Helvetica,sans-Serif\" font-size=\"14.00\">samples = 165</text>\n",
       "<text text-anchor=\"start\" x=\"1264.5\" y=\"-126.8\" font-family=\"Helvetica,sans-Serif\" font-size=\"14.00\">value = [47, 118]</text>\n",
       "<text text-anchor=\"start\" x=\"1287.5\" y=\"-111.8\" font-family=\"Helvetica,sans-Serif\" font-size=\"14.00\">class = 1</text>\n",
       "</g>\n",
       "<!-- 21&#45;&gt;25 -->\n",
       "<g id=\"edge25\" class=\"edge\">\n",
       "<title>21&#45;&gt;25</title>\n",
       "<path fill=\"none\" stroke=\"black\" d=\"M1174.56,-227.44C1194.75,-215.81 1217.35,-202.78 1238.43,-190.63\"/>\n",
       "<polygon fill=\"black\" stroke=\"black\" points=\"1240.44,-193.51 1247.35,-185.49 1236.94,-187.45 1240.44,-193.51\"/>\n",
       "</g>\n",
       "<!-- 23 -->\n",
       "<g id=\"node24\" class=\"node\">\n",
       "<title>23</title>\n",
       "<path fill=\"#fefeff\" stroke=\"black\" d=\"M1105.5,-68C1105.5,-68 1004.5,-68 1004.5,-68 998.5,-68 992.5,-62 992.5,-56 992.5,-56 992.5,-12 992.5,-12 992.5,-6 998.5,0 1004.5,0 1004.5,0 1105.5,0 1105.5,0 1111.5,0 1117.5,-6 1117.5,-12 1117.5,-12 1117.5,-56 1117.5,-56 1117.5,-62 1111.5,-68 1105.5,-68\"/>\n",
       "<text text-anchor=\"start\" x=\"1027\" y=\"-52.8\" font-family=\"Helvetica,sans-Serif\" font-size=\"14.00\">gini = 0.5</text>\n",
       "<text text-anchor=\"start\" x=\"1010\" y=\"-37.8\" font-family=\"Helvetica,sans-Serif\" font-size=\"14.00\">samples = 686</text>\n",
       "<text text-anchor=\"start\" x=\"1000.5\" y=\"-22.8\" font-family=\"Helvetica,sans-Serif\" font-size=\"14.00\">value = [342, 344]</text>\n",
       "<text text-anchor=\"start\" x=\"1027.5\" y=\"-7.8\" font-family=\"Helvetica,sans-Serif\" font-size=\"14.00\">class = 1</text>\n",
       "</g>\n",
       "<!-- 22&#45;&gt;23 -->\n",
       "<g id=\"edge23\" class=\"edge\">\n",
       "<title>22&#45;&gt;23</title>\n",
       "<path fill=\"none\" stroke=\"black\" d=\"M1090.78,-103.73C1086.26,-95.06 1081.49,-85.9 1076.96,-77.18\"/>\n",
       "<polygon fill=\"black\" stroke=\"black\" points=\"1080.06,-75.55 1072.33,-68.3 1073.85,-78.79 1080.06,-75.55\"/>\n",
       "</g>\n",
       "<!-- 24 -->\n",
       "<g id=\"node25\" class=\"node\">\n",
       "<title>24</title>\n",
       "<path fill=\"#7ebfee\" stroke=\"black\" d=\"M1234,-68C1234,-68 1148,-68 1148,-68 1142,-68 1136,-62 1136,-56 1136,-56 1136,-12 1136,-12 1136,-6 1142,0 1148,0 1148,0 1234,0 1234,0 1240,0 1246,-6 1246,-12 1246,-12 1246,-56 1246,-56 1246,-62 1240,-68 1234,-68\"/>\n",
       "<text text-anchor=\"start\" x=\"1155.5\" y=\"-52.8\" font-family=\"Helvetica,sans-Serif\" font-size=\"14.00\">gini = 0.382</text>\n",
       "<text text-anchor=\"start\" x=\"1150\" y=\"-37.8\" font-family=\"Helvetica,sans-Serif\" font-size=\"14.00\">samples = 66</text>\n",
       "<text text-anchor=\"start\" x=\"1144\" y=\"-22.8\" font-family=\"Helvetica,sans-Serif\" font-size=\"14.00\">value = [17, 49]</text>\n",
       "<text text-anchor=\"start\" x=\"1163.5\" y=\"-7.8\" font-family=\"Helvetica,sans-Serif\" font-size=\"14.00\">class = 1</text>\n",
       "</g>\n",
       "<!-- 22&#45;&gt;24 -->\n",
       "<g id=\"edge24\" class=\"edge\">\n",
       "<title>22&#45;&gt;24</title>\n",
       "<path fill=\"none\" stroke=\"black\" d=\"M1141.42,-103.73C1147.8,-94.88 1154.56,-85.51 1160.97,-76.63\"/>\n",
       "<polygon fill=\"black\" stroke=\"black\" points=\"1163.96,-78.46 1166.98,-68.3 1158.29,-74.36 1163.96,-78.46\"/>\n",
       "</g>\n",
       "<!-- 26 -->\n",
       "<g id=\"node27\" class=\"node\">\n",
       "<title>26</title>\n",
       "<path fill=\"#49a5e7\" stroke=\"black\" d=\"M1354,-68C1354,-68 1276,-68 1276,-68 1270,-68 1264,-62 1264,-56 1264,-56 1264,-12 1264,-12 1264,-6 1270,0 1276,0 1276,0 1354,0 1354,0 1360,0 1366,-6 1366,-12 1366,-12 1366,-56 1366,-56 1366,-62 1360,-68 1354,-68\"/>\n",
       "<text text-anchor=\"start\" x=\"1279.5\" y=\"-52.8\" font-family=\"Helvetica,sans-Serif\" font-size=\"14.00\">gini = 0.136</text>\n",
       "<text text-anchor=\"start\" x=\"1274\" y=\"-37.8\" font-family=\"Helvetica,sans-Serif\" font-size=\"14.00\">samples = 41</text>\n",
       "<text text-anchor=\"start\" x=\"1272\" y=\"-22.8\" font-family=\"Helvetica,sans-Serif\" font-size=\"14.00\">value = [3, 38]</text>\n",
       "<text text-anchor=\"start\" x=\"1287.5\" y=\"-7.8\" font-family=\"Helvetica,sans-Serif\" font-size=\"14.00\">class = 1</text>\n",
       "</g>\n",
       "<!-- 25&#45;&gt;26 -->\n",
       "<g id=\"edge26\" class=\"edge\">\n",
       "<title>25&#45;&gt;26</title>\n",
       "<path fill=\"none\" stroke=\"black\" d=\"M1315,-103.73C1315,-95.52 1315,-86.86 1315,-78.56\"/>\n",
       "<polygon fill=\"black\" stroke=\"black\" points=\"1318.5,-78.3 1315,-68.3 1311.5,-78.3 1318.5,-78.3\"/>\n",
       "</g>\n",
       "<!-- 27 -->\n",
       "<g id=\"node28\" class=\"node\">\n",
       "<title>27</title>\n",
       "<path fill=\"#a6d3f3\" stroke=\"black\" d=\"M1482,-68C1482,-68 1396,-68 1396,-68 1390,-68 1384,-62 1384,-56 1384,-56 1384,-12 1384,-12 1384,-6 1390,0 1396,0 1396,0 1482,0 1482,0 1488,0 1494,-6 1494,-12 1494,-12 1494,-56 1494,-56 1494,-62 1488,-68 1482,-68\"/>\n",
       "<text text-anchor=\"start\" x=\"1403.5\" y=\"-52.8\" font-family=\"Helvetica,sans-Serif\" font-size=\"14.00\">gini = 0.458</text>\n",
       "<text text-anchor=\"start\" x=\"1394\" y=\"-37.8\" font-family=\"Helvetica,sans-Serif\" font-size=\"14.00\">samples = 124</text>\n",
       "<text text-anchor=\"start\" x=\"1392\" y=\"-22.8\" font-family=\"Helvetica,sans-Serif\" font-size=\"14.00\">value = [44, 80]</text>\n",
       "<text text-anchor=\"start\" x=\"1411.5\" y=\"-7.8\" font-family=\"Helvetica,sans-Serif\" font-size=\"14.00\">class = 1</text>\n",
       "</g>\n",
       "<!-- 25&#45;&gt;27 -->\n",
       "<g id=\"edge27\" class=\"edge\">\n",
       "<title>25&#45;&gt;27</title>\n",
       "<path fill=\"none\" stroke=\"black\" d=\"M1361.17,-103.73C1371.81,-94.33 1383.12,-84.35 1393.72,-74.99\"/>\n",
       "<polygon fill=\"black\" stroke=\"black\" points=\"1396.11,-77.54 1401.29,-68.3 1391.48,-72.3 1396.11,-77.54\"/>\n",
       "</g>\n",
       "<!-- 29 -->\n",
       "<g id=\"node30\" class=\"node\">\n",
       "<title>29</title>\n",
       "<path fill=\"#81c1ee\" stroke=\"black\" d=\"M1144,-417.5C1144,-417.5 1066,-417.5 1066,-417.5 1060,-417.5 1054,-411.5 1054,-405.5 1054,-405.5 1054,-361.5 1054,-361.5 1054,-355.5 1060,-349.5 1066,-349.5 1066,-349.5 1144,-349.5 1144,-349.5 1150,-349.5 1156,-355.5 1156,-361.5 1156,-361.5 1156,-405.5 1156,-405.5 1156,-411.5 1150,-417.5 1144,-417.5\"/>\n",
       "<text text-anchor=\"start\" x=\"1069.5\" y=\"-402.3\" font-family=\"Helvetica,sans-Serif\" font-size=\"14.00\">gini = 0.391</text>\n",
       "<text text-anchor=\"start\" x=\"1064\" y=\"-387.3\" font-family=\"Helvetica,sans-Serif\" font-size=\"14.00\">samples = 15</text>\n",
       "<text text-anchor=\"start\" x=\"1062\" y=\"-372.3\" font-family=\"Helvetica,sans-Serif\" font-size=\"14.00\">value = [4, 11]</text>\n",
       "<text text-anchor=\"start\" x=\"1077.5\" y=\"-357.3\" font-family=\"Helvetica,sans-Serif\" font-size=\"14.00\">class = 1</text>\n",
       "</g>\n",
       "<!-- 28&#45;&gt;29 -->\n",
       "<g id=\"edge29\" class=\"edge\">\n",
       "<title>28&#45;&gt;29</title>\n",
       "<path fill=\"none\" stroke=\"black\" d=\"M1105,-460.91C1105,-450.2 1105,-438.62 1105,-427.78\"/>\n",
       "<polygon fill=\"black\" stroke=\"black\" points=\"1108.5,-427.67 1105,-417.67 1101.5,-427.67 1108.5,-427.67\"/>\n",
       "</g>\n",
       "<!-- 30 -->\n",
       "<g id=\"node31\" class=\"node\">\n",
       "<title>30</title>\n",
       "<path fill=\"#3fa0e6\" stroke=\"black\" d=\"M1303.5,-425C1303.5,-425 1186.5,-425 1186.5,-425 1180.5,-425 1174.5,-419 1174.5,-413 1174.5,-413 1174.5,-354 1174.5,-354 1174.5,-348 1180.5,-342 1186.5,-342 1186.5,-342 1303.5,-342 1303.5,-342 1309.5,-342 1315.5,-348 1315.5,-354 1315.5,-354 1315.5,-413 1315.5,-413 1315.5,-419 1309.5,-425 1303.5,-425\"/>\n",
       "<text text-anchor=\"start\" x=\"1182.5\" y=\"-409.8\" font-family=\"Helvetica,sans-Serif\" font-size=\"14.00\">S_AD_ORIT ≤ 0.042</text>\n",
       "<text text-anchor=\"start\" x=\"1213\" y=\"-394.8\" font-family=\"Helvetica,sans-Serif\" font-size=\"14.00\">gini = 0.06</text>\n",
       "<text text-anchor=\"start\" x=\"1204\" y=\"-379.8\" font-family=\"Helvetica,sans-Serif\" font-size=\"14.00\">samples = 65</text>\n",
       "<text text-anchor=\"start\" x=\"1202\" y=\"-364.8\" font-family=\"Helvetica,sans-Serif\" font-size=\"14.00\">value = [2, 63]</text>\n",
       "<text text-anchor=\"start\" x=\"1217.5\" y=\"-349.8\" font-family=\"Helvetica,sans-Serif\" font-size=\"14.00\">class = 1</text>\n",
       "</g>\n",
       "<!-- 28&#45;&gt;30 -->\n",
       "<g id=\"edge30\" class=\"edge\">\n",
       "<title>28&#45;&gt;30</title>\n",
       "<path fill=\"none\" stroke=\"black\" d=\"M1153.57,-460.91C1164.87,-451.47 1176.98,-441.34 1188.58,-431.65\"/>\n",
       "<polygon fill=\"black\" stroke=\"black\" points=\"1191.08,-434.12 1196.51,-425.02 1186.6,-428.75 1191.08,-434.12\"/>\n",
       "</g>\n",
       "<!-- 31 -->\n",
       "<g id=\"node32\" class=\"node\">\n",
       "<title>31</title>\n",
       "<path fill=\"#399de5\" stroke=\"black\" d=\"M1284,-298.5C1284,-298.5 1206,-298.5 1206,-298.5 1200,-298.5 1194,-292.5 1194,-286.5 1194,-286.5 1194,-242.5 1194,-242.5 1194,-236.5 1200,-230.5 1206,-230.5 1206,-230.5 1284,-230.5 1284,-230.5 1290,-230.5 1296,-236.5 1296,-242.5 1296,-242.5 1296,-286.5 1296,-286.5 1296,-292.5 1290,-298.5 1284,-298.5\"/>\n",
       "<text text-anchor=\"start\" x=\"1217\" y=\"-283.3\" font-family=\"Helvetica,sans-Serif\" font-size=\"14.00\">gini = 0.0</text>\n",
       "<text text-anchor=\"start\" x=\"1204\" y=\"-268.3\" font-family=\"Helvetica,sans-Serif\" font-size=\"14.00\">samples = 40</text>\n",
       "<text text-anchor=\"start\" x=\"1202\" y=\"-253.3\" font-family=\"Helvetica,sans-Serif\" font-size=\"14.00\">value = [0, 40]</text>\n",
       "<text text-anchor=\"start\" x=\"1217.5\" y=\"-238.3\" font-family=\"Helvetica,sans-Serif\" font-size=\"14.00\">class = 1</text>\n",
       "</g>\n",
       "<!-- 30&#45;&gt;31 -->\n",
       "<g id=\"edge31\" class=\"edge\">\n",
       "<title>30&#45;&gt;31</title>\n",
       "<path fill=\"none\" stroke=\"black\" d=\"M1245,-341.91C1245,-331.2 1245,-319.62 1245,-308.78\"/>\n",
       "<polygon fill=\"black\" stroke=\"black\" points=\"1248.5,-308.67 1245,-298.67 1241.5,-308.67 1248.5,-308.67\"/>\n",
       "</g>\n",
       "<!-- 32 -->\n",
       "<g id=\"node33\" class=\"node\">\n",
       "<title>32</title>\n",
       "<path fill=\"#4aa6e7\" stroke=\"black\" d=\"M1404,-298.5C1404,-298.5 1326,-298.5 1326,-298.5 1320,-298.5 1314,-292.5 1314,-286.5 1314,-286.5 1314,-242.5 1314,-242.5 1314,-236.5 1320,-230.5 1326,-230.5 1326,-230.5 1404,-230.5 1404,-230.5 1410,-230.5 1416,-236.5 1416,-242.5 1416,-242.5 1416,-286.5 1416,-286.5 1416,-292.5 1410,-298.5 1404,-298.5\"/>\n",
       "<text text-anchor=\"start\" x=\"1329.5\" y=\"-283.3\" font-family=\"Helvetica,sans-Serif\" font-size=\"14.00\">gini = 0.147</text>\n",
       "<text text-anchor=\"start\" x=\"1324\" y=\"-268.3\" font-family=\"Helvetica,sans-Serif\" font-size=\"14.00\">samples = 25</text>\n",
       "<text text-anchor=\"start\" x=\"1322\" y=\"-253.3\" font-family=\"Helvetica,sans-Serif\" font-size=\"14.00\">value = [2, 23]</text>\n",
       "<text text-anchor=\"start\" x=\"1337.5\" y=\"-238.3\" font-family=\"Helvetica,sans-Serif\" font-size=\"14.00\">class = 1</text>\n",
       "</g>\n",
       "<!-- 30&#45;&gt;32 -->\n",
       "<g id=\"edge32\" class=\"edge\">\n",
       "<title>30&#45;&gt;32</title>\n",
       "<path fill=\"none\" stroke=\"black\" d=\"M1286.63,-341.91C1298.63,-330.21 1311.71,-317.46 1323.69,-305.78\"/>\n",
       "<polygon fill=\"black\" stroke=\"black\" points=\"1326.27,-308.15 1330.98,-298.67 1321.38,-303.14 1326.27,-308.15\"/>\n",
       "</g>\n",
       "</g>\n",
       "</svg>\n"
      ],
      "text/plain": [
       "<graphviz.sources.Source at 0x7f7a918304f0>"
      ]
     },
     "execution_count": 43,
     "metadata": {},
     "output_type": "execute_result"
    }
   ],
   "source": [
    "# 15 features\n",
    "clf = clf_dt_15.fit(X_train_15,y_train)\n",
    "\n",
    "dot_data = tree.export_graphviz(clf, out_file=None, \n",
    "                                feature_names=[\"AGE\", \"S_AD_ORIT\", \"D_AD_ORIT\", \"K_BLOOD\", \"NA_BLOOD\", \"ALT_BLOOD\", \"AST_BLOOD\", \"L_BLOOD\", \"ROE\", \"CHF Stage 1\",\"41\",\"NA_R_3_n(0)\",\"zab_leg_02\",\"NITRS_S\",\"LID_S_n\"],\n",
    "                                class_names=[\"0\",\"1\"],  \n",
    "                                filled=True, rounded=True,  \n",
    "                                special_characters=True)  \n",
    "graph = graphviz.Source(dot_data) \n",
    "graph.render(\"MI_15\")\n",
    "graph"
   ]
  },
  {
   "cell_type": "code",
   "execution_count": 44,
   "metadata": {},
   "outputs": [],
   "source": [
    "# random forest\n",
    "# explore the number of selected features with RFE\n",
    "def get_models():\n",
    "    models = dict()\n",
    "    for i in range(2, 21):\n",
    "        rfe = RFE(estimator=RandomForestClassifier(), n_features_to_select=i)\n",
    "        model = RandomForestClassifier()\n",
    "        models[str(i)] = Pipeline(steps=[('s',rfe),('m',model)])\n",
    "    return models\n",
    "\n",
    "def evaluate_model(model, X_train, y_train):\n",
    "    cv = RepeatedStratifiedKFold(n_splits=10, n_repeats=3, random_state=1)\n",
    "    scores = cross_val_score(model, X_train, y_train, scoring='accuracy', cv=cv, n_jobs=-1, error_score='raise')\n",
    "    return scores"
   ]
  },
  {
   "cell_type": "code",
   "execution_count": 45,
   "metadata": {
    "id": "utLgYPz2OrOc",
    "outputId": "251ebeaf-a8a1-4c5b-976e-8bc0da629895"
   },
   "outputs": [
    {
     "name": "stdout",
     "output_type": "stream",
     "text": [
      ">2 0.530 (0.041)\n",
      ">3 0.564 (0.040)\n",
      ">4 0.568 (0.038)\n",
      ">5 0.583 (0.030)\n",
      ">6 0.592 (0.034)\n",
      ">7 0.599 (0.040)\n",
      ">8 0.585 (0.041)\n",
      ">9 0.601 (0.034)\n",
      ">10 0.601 (0.033)\n",
      ">11 0.606 (0.037)\n",
      ">12 0.608 (0.042)\n",
      ">13 0.619 (0.047)\n",
      ">14 0.620 (0.041)\n",
      ">15 0.621 (0.040)\n",
      ">16 0.620 (0.042)\n",
      ">17 0.627 (0.049)\n",
      ">18 0.626 (0.039)\n",
      ">19 0.617 (0.045)\n",
      ">20 0.631 (0.038)\n"
     ]
    },
    {
     "data": {
      "image/png": "[encoded data removed]",
      "text/plain": [
       "<Figure size 432x288 with 1 Axes>"
      ]
     },
     "metadata": {
      "needs_background": "light"
     },
     "output_type": "display_data"
    }
   ],
   "source": [
    "models = get_models()\n",
    "# evaluate the models and store results\n",
    "results, names = list(), list()\n",
    "for name, model in models.items():\n",
    "\tscores = evaluate_model(model, X_train, y_train)\n",
    "\tresults.append(scores)\n",
    "\tnames.append(name)\n",
    "\tprint('>%s %.3f (%.3f)' % (name, mean(scores), std(scores)))\n",
    "# plot model performance for comparison\n",
    "pyplot.boxplot(results, labels=names, showmeans=True)\n",
    "pyplot.show()"
   ]
  },
  {
   "cell_type": "code",
   "execution_count": 94,
   "metadata": {
    "id": "k1HUgod5OrOc",
    "outputId": "15b4b51b-0d8d-46cb-9b29-cef860ddfb7d"
   },
   "outputs": [
    {
     "name": "stdout",
     "output_type": "stream",
     "text": [
      "Column: 0, Selected True, Rank: 1.000\n",
      "Column: 1, Selected True, Rank: 1.000\n",
      "Column: 2, Selected True, Rank: 1.000\n",
      "Column: 3, Selected True, Rank: 1.000\n",
      "Column: 4, Selected True, Rank: 1.000\n",
      "Column: 5, Selected True, Rank: 1.000\n",
      "Column: 6, Selected True, Rank: 1.000\n",
      "Column: 7, Selected True, Rank: 1.000\n",
      "Column: 8, Selected True, Rank: 1.000\n",
      "Column: 41, Selected True, Rank: 1.000\n"
     ]
    }
   ],
   "source": [
    "# report which features were selected by RFE with 10 features\n",
    "rfe_10 = RFE(estimator=RandomForestClassifier(), n_features_to_select=10)\n",
    "rfe_10.fit(X_train, y_train)\n",
    "for i in range(X_train.shape[1]):\n",
    "    if(rfe_10.support_[i] == True):\n",
    "        print('Column: %d, Selected %s, Rank: %.3f' % (i, rfe_10.support_[i], rfe_10.ranking_[i]))"
   ]
  },
  {
   "cell_type": "code",
   "execution_count": 96,
   "metadata": {
    "id": "xrI6hqrYOrOc",
    "outputId": "ac73ba79-ecd0-4b9c-8dc7-f7562b7d3729"
   },
   "outputs": [],
   "source": [
    "# 10 selected features\n",
    "DT_selected_list_10 = []\n",
    "for i in range(X_train.shape[1]):\n",
    "    if rfe_10.support_[i] == True:\n",
    "        DT_selected_list_10.append(i)\n",
    "X_train.columns[DT_selected_list_10]\n",
    "X_train_10 = X_train[X_train.columns[DT_selected_list_10]]"
   ]
  },
  {
   "cell_type": "code",
   "execution_count": 95,
   "metadata": {
    "id": "xKpehDLQOrOd",
    "outputId": "f63d271b-96fd-43e4-873e-2ee6e01c23d9"
   },
   "outputs": [
    {
     "name": "stdout",
     "output_type": "stream",
     "text": [
      "Column: 0, Selected True, Rank: 1.000\n",
      "Column: 1, Selected True, Rank: 1.000\n",
      "Column: 2, Selected True, Rank: 1.000\n",
      "Column: 3, Selected True, Rank: 1.000\n",
      "Column: 4, Selected True, Rank: 1.000\n",
      "Column: 5, Selected True, Rank: 1.000\n",
      "Column: 6, Selected True, Rank: 1.000\n",
      "Column: 7, Selected True, Rank: 1.000\n",
      "Column: 8, Selected True, Rank: 1.000\n",
      "Column: 22, Selected True, Rank: 1.000\n",
      "Column: 41, Selected True, Rank: 1.000\n",
      "Column: 86, Selected True, Rank: 1.000\n",
      "Column: 141, Selected True, Rank: 1.000\n",
      "Column: 176, Selected True, Rank: 1.000\n",
      "Column: 177, Selected True, Rank: 1.000\n"
     ]
    }
   ],
   "source": [
    "# 15 features\n",
    "rfe_15 = RFE(estimator=RandomForestClassifier(), n_features_to_select=15)\n",
    "rfe_15.fit(X_train, y_train)\n",
    "for i in range(X_train.shape[1]):\n",
    "    if(rfe_15.support_[i] == True):\n",
    "        print('Column: %d, Selected %s, Rank: %.3f' % (i, rfe_15.support_[i], rfe_15.ranking_[i]))"
   ]
  },
  {
   "cell_type": "code",
   "execution_count": 97,
   "metadata": {
    "id": "t8AlihJ3OrOd",
    "outputId": "e3002f5f-ff0c-49b0-e478-8986f8a792a6"
   },
   "outputs": [],
   "source": [
    "# 15 selected features\n",
    "DT_selected_list_15 = []\n",
    "for i in range(X_train.shape[1]):\n",
    "    if rfe_15.support_[i] == True:\n",
    "        DT_selected_list_15.append(i)\n",
    "X_train.columns[DT_selected_list_15]\n",
    "X_train_15 = X_train[X_train.columns[DT_selected_list_15]]"
   ]
  },
  {
   "cell_type": "code",
   "execution_count": 98,
   "metadata": {
    "id": "Sfv0vIJJOrOd",
    "outputId": "e2379e5d-c4f4-433e-bcb6-f59aebd1c304"
   },
   "outputs": [
    {
     "name": "stdout",
     "output_type": "stream",
     "text": [
      "Column: 0, Selected True, Rank: 1.000\n",
      "Column: 1, Selected True, Rank: 1.000\n",
      "Column: 2, Selected True, Rank: 1.000\n",
      "Column: 3, Selected True, Rank: 1.000\n",
      "Column: 4, Selected True, Rank: 1.000\n",
      "Column: 5, Selected True, Rank: 1.000\n",
      "Column: 6, Selected True, Rank: 1.000\n",
      "Column: 7, Selected True, Rank: 1.000\n",
      "Column: 8, Selected True, Rank: 1.000\n",
      "Column: 22, Selected True, Rank: 1.000\n",
      "Column: 27, Selected True, Rank: 1.000\n",
      "Column: 30, Selected True, Rank: 1.000\n",
      "Column: 39, Selected True, Rank: 1.000\n",
      "Column: 41, Selected True, Rank: 1.000\n",
      "Column: 46, Selected True, Rank: 1.000\n",
      "Column: 51, Selected True, Rank: 1.000\n",
      "Column: 86, Selected True, Rank: 1.000\n",
      "Column: 141, Selected True, Rank: 1.000\n",
      "Column: 176, Selected True, Rank: 1.000\n",
      "Column: 177, Selected True, Rank: 1.000\n"
     ]
    }
   ],
   "source": [
    "# 20 features\n",
    "rfe_20 = RFE(estimator=RandomForestClassifier(), n_features_to_select=20)\n",
    "rfe_20.fit(X_train, y_train)\n",
    "for i in range(X_train.shape[1]):\n",
    "    if(rfe_20.support_[i] == True):\n",
    "        print('Column: %d, Selected %s, Rank: %.3f' % (i, rfe_20.support_[i], rfe_20.ranking_[i]))"
   ]
  },
  {
   "cell_type": "code",
   "execution_count": 99,
   "metadata": {
    "id": "aiEZN1iJOrOe",
    "outputId": "b78efefc-061c-41e3-873a-14d6d299e865"
   },
   "outputs": [],
   "source": [
    "# 20 selected features\n",
    "DT_selected_list_20 = []\n",
    "for i in range(X_train.shape[1]):\n",
    "    if rfe_20.support_[i] == True:\n",
    "        DT_selected_list_20.append(i)\n",
    "X_train.columns[DT_selected_list_20]\n",
    "X_train_20 = X_train[X_train.columns[DT_selected_list_20]]"
   ]
  },
  {
   "cell_type": "code",
   "execution_count": 100,
   "metadata": {
    "id": "uAlwO-8rOrOf",
    "outputId": "6f5c5bfd-f0d4-41e4-997a-2fff89a4150d"
   },
   "outputs": [
    {
     "data": {
      "text/plain": [
       "({'max_depth': 24, 'min_samples_leaf': 10}, 0.664179104477612)"
      ]
     },
     "execution_count": 100,
     "metadata": {},
     "output_type": "execute_result"
    }
   ],
   "source": [
    "# rf tuning with all features\n",
    "random.seed(240)\n",
    "param_test1 = {\n",
    " 'max_depth':range(3,25,1),\n",
    " 'min_samples_leaf':range(10,60,5)\n",
    "}\n",
    "grid = GridSearchCV(RandomForestClassifier(),param_test1)    \n",
    "grid.fit(X_train,y_train)\n",
    "grid.best_params_, grid.best_score_"
   ]
  },
  {
   "cell_type": "code",
   "execution_count": 101,
   "metadata": {
    "id": "VYxPKfdMOrOg",
    "outputId": "8402110a-f9b3-4268-8784-383bae89c21c",
    "scrolled": true
   },
   "outputs": [
    {
     "data": {
      "text/plain": [
       "({'max_depth': 23, 'min_samples_leaf': 10}, 0.6253731343283582)"
      ]
     },
     "execution_count": 101,
     "metadata": {},
     "output_type": "execute_result"
    }
   ],
   "source": [
    "# rf tuning with 10 features\n",
    "param_test1 = {\n",
    " 'max_depth':range(3,25,1),\n",
    " 'min_samples_leaf':range(10,60,5)\n",
    "}\n",
    "grid = GridSearchCV(RandomForestClassifier(),param_test1)               \n",
    "grid.fit(X_train_10,y_train)\n",
    "grid.best_params_, grid.best_score_"
   ]
  },
  {
   "cell_type": "code",
   "execution_count": 102,
   "metadata": {
    "id": "4DYxlQCgOrOh",
    "outputId": "1dd37dc1-3915-4816-a7e6-396bdab7750c"
   },
   "outputs": [
    {
     "data": {
      "text/plain": [
       "({'max_depth': 14, 'min_samples_leaf': 15}, 0.6477611940298507)"
      ]
     },
     "execution_count": 102,
     "metadata": {},
     "output_type": "execute_result"
    }
   ],
   "source": [
    "# rf tuning with 15 features\n",
    "param_test1 = {\n",
    " 'max_depth':range(3,25,1),\n",
    " 'min_samples_leaf':range(10,60,5)\n",
    "}\n",
    "grid = GridSearchCV(RandomForestClassifier(),param_test1)                \n",
    "grid.fit(X_train_15,y_train)\n",
    "grid.best_params_, grid.best_score_"
   ]
  },
  {
   "cell_type": "code",
   "execution_count": 103,
   "metadata": {
    "id": "q4a__VAbOrOi",
    "outputId": "f69b3eef-9711-41b4-e9e1-e7ac83649ab7"
   },
   "outputs": [
    {
     "data": {
      "text/plain": [
       "({'max_depth': 15, 'min_samples_leaf': 10}, 0.6485074626865671)"
      ]
     },
     "execution_count": 103,
     "metadata": {},
     "output_type": "execute_result"
    }
   ],
   "source": [
    "# rf tuning with 20 features\n",
    "param_test1 = {\n",
    " 'max_depth':range(3,25,1),\n",
    " 'min_samples_leaf':range(10,60,5)\n",
    "}\n",
    "grid = GridSearchCV(RandomForestClassifier(),param_test1)                 \n",
    "grid.fit(X_train_20,y_train)\n",
    "grid.best_params_, grid.best_score_\n",
    "\n",
    "#{'max_depth': 7, 'min_samples_leaf': 15},"
   ]
  },
  {
   "cell_type": "code",
   "execution_count": 104,
   "metadata": {
    "id": "TIKvAPYlOrOi"
   },
   "outputs": [
    {
     "name": "stdout",
     "output_type": "stream",
     "text": [
      "Accuracy: 0.6636904761904762\n",
      "Precision: 0.6682242990654206\n",
      "Recall: 0.772972972972973\n",
      "F-measure: 0.7167919799498748\n"
     ]
    }
   ],
   "source": [
    "# all features\n",
    "# create random forest classifer object\n",
    "clf_rf = RandomForestClassifier(max_depth=11, min_samples_leaf=10)\n",
    "# train\n",
    "clf_rf = clf_rf.fit(X_train,y_train)\n",
    "# predict\n",
    "y_pred = clf_rf.predict(X_test)\n",
    "\n",
    "# report performance metrics\n",
    "print(\"Accuracy:\",metrics.accuracy_score(y_test, y_pred))\n",
    "print(\"Precision:\",metrics.precision_score(y_test, y_pred))\n",
    "print(\"Recall:\",metrics.recall_score(y_test, y_pred))\n",
    "print(\"F-measure:\",metrics.f1_score(y_test, y_pred))"
   ]
  },
  {
   "cell_type": "code",
   "execution_count": 105,
   "metadata": {
    "id": "XMqD1SfLOrOj"
   },
   "outputs": [
    {
     "name": "stdout",
     "output_type": "stream",
     "text": [
      "Accuracy: 0.5863095238095238\n",
      "Precision: 0.6127450980392157\n",
      "Recall: 0.6756756756756757\n",
      "F-measure: 0.6426735218508998\n"
     ]
    }
   ],
   "source": [
    "# 10 features \n",
    "X_test_10 = X_test[X_test.columns[DT_selected_list_10]]\n",
    "clf_rf_10 = RandomForestClassifier(max_depth=11, min_samples_leaf=10)\n",
    "clf_rf_10 = clf_rf_10.fit(X_train_10,y_train)\n",
    "y_pred = clf_rf_10.predict(X_test_10)\n",
    "\n",
    "# report performance metrics\n",
    "print(\"Accuracy:\",metrics.accuracy_score(y_test, y_pred))\n",
    "print(\"Precision:\",metrics.precision_score(y_test, y_pred))\n",
    "print(\"Recall:\",metrics.recall_score(y_test, y_pred))\n",
    "print(\"F-measure:\",metrics.f1_score(y_test, y_pred))"
   ]
  },
  {
   "cell_type": "code",
   "execution_count": 106,
   "metadata": {
    "id": "l0K47HEUOrOj",
    "outputId": "0c8b82b6-53f7-48e8-b5aa-0c39d7666367"
   },
   "outputs": [
    {
     "name": "stdout",
     "output_type": "stream",
     "text": [
      "Accuracy: 0.6636904761904762\n",
      "Precision: 0.6682242990654206\n",
      "Recall: 0.772972972972973\n",
      "F-measure: 0.7167919799498748\n"
     ]
    }
   ],
   "source": [
    "# 15 features\n",
    "X_test_15 = X_test[X_test.columns[DT_selected_list_15]]\n",
    "clf_rf_15 = RandomForestClassifier(max_depth=9, min_samples_leaf=10)\n",
    "clf_rft_15 = clf_rf_15.fit(X_train_15,y_train)\n",
    "y_pred = clf_rf_15.predict(X_test_15)\n",
    "\n",
    "# report performance metrics\n",
    "print(\"Accuracy:\",metrics.accuracy_score(y_test, y_pred))\n",
    "print(\"Precision:\",metrics.precision_score(y_test, y_pred))\n",
    "print(\"Recall:\",metrics.recall_score(y_test, y_pred))\n",
    "print(\"F-measure:\",metrics.f1_score(y_test, y_pred))"
   ]
  },
  {
   "cell_type": "code",
   "execution_count": 59,
   "metadata": {
    "id": "FKzuwQxFOrOl"
   },
   "outputs": [
    {
     "name": "stdout",
     "output_type": "stream",
     "text": [
      "Accuracy: 0.6547619047619048\n",
      "Precision: 0.6493506493506493\n",
      "Recall: 0.8108108108108109\n",
      "F-measure: 0.721153846153846\n"
     ]
    },
    {
     "data": {
      "text/plain": [
       "array([[ 70,  81],\n",
       "       [ 35, 150]])"
      ]
     },
     "execution_count": 59,
     "metadata": {},
     "output_type": "execute_result"
    }
   ],
   "source": [
    "# 20 features\n",
    "X_test_20 = X_test[X_test.columns[DT_selected_list_20]]\n",
    "clf_rf_20 = RandomForestClassifier(max_depth=7, min_samples_leaf=15)\n",
    "clf_rf_20 = clf_rf_20.fit(X_train_15,y_train)\n",
    "y_pred = clf_rf_20.predict(X_test_15)\n",
    "\n",
    "# report performance metrics\n",
    "print(\"Accuracy:\",metrics.accuracy_score(y_test, y_pred))\n",
    "print(\"Precision:\",metrics.precision_score(y_test, y_pred))\n",
    "print(\"Recall:\",metrics.recall_score(y_test, y_pred))\n",
    "print(\"F-measure:\",metrics.f1_score(y_test, y_pred))"
   ]
  },
  {
   "cell_type": "code",
   "execution_count": 60,
   "metadata": {
    "id": "wgdc4WyZOrOo",
    "outputId": "f49cca9c-9c26-4c6a-b0a6-2cd3a5ebfc66"
   },
   "outputs": [],
   "source": [
    "# XGboost without RFE\n",
    "random.seed(240)\n",
    "\n",
    "# train\n",
    "model = XGBClassifier()\n",
    "model.fit(X_train, y_train)\n",
    "\n",
    "# predict\n",
    "y_pred = model.predict(X_test)\n",
    "predictions = [round(value) for value in y_pred]\n",
    "\n",
    "# report accuracy\n",
    "accuracy = accuracy_score(y_test, predictions)\n",
    "print(\"Accuracy: %.2f%%\" % (accuracy * 100.0))"
   ]
  },
  {
   "cell_type": "code",
   "execution_count": 111,
   "metadata": {
    "scrolled": true
   },
   "outputs": [
    {
     "name": "stdout",
     "output_type": "stream",
     "text": [
      "Thresh=0.008, n=49, Accuracy: 67.26%\n"
     ]
    }
   ],
   "source": [
    "# fit model using each importance as a threshold\n",
    "thresholds = sort(model.feature_importances_)\n",
    "max_accuracy = None\n",
    "max_tresh = 0\n",
    "max_n = 0\n",
    "for thresh in thresholds:\n",
    "    # select features using threshold\n",
    "    selection = SelectFromModel(model, threshold=thresh, prefit=True)\n",
    "    select_X_train = selection.transform(X_train)\n",
    "    # train model\n",
    "    selection_model = XGBClassifier()\n",
    "    selection_model.fit(select_X_train, y_train)\n",
    "    # eval model\n",
    "    select_X_test = selection.transform(X_test)\n",
    "    y_pred = selection_model.predict(select_X_test)\n",
    "    predictions = [round(value) for value in y_pred]\n",
    "    accuracy = accuracy_score(y_test, predictions)\n",
    "    if max_accuracy is None or accuracy > max_accuracy: \n",
    "        max_accuracy = accuracy\n",
    "        max_tresh = thresh\n",
    "        max_n = select_X_train.shape[1]\n",
    "print(\"Thresh=%.3f, n=%d, Accuracy: %.2f%%\" % (max_tresh, max_n, max_accuracy*100.0))\n",
    "    # Comment: 23 çıkıyor"
   ]
  },
  {
   "cell_type": "code",
   "execution_count": 63,
   "metadata": {
    "id": "hkXaJmiiOrOp",
    "outputId": "ab74fd2c-1f3e-4272-d0cb-4f451a73d268"
   },
   "outputs": [
    {
     "data": {
      "image/png": "[encoded data removed]",
      "text/plain": [
       "<Figure size 432x288 with 1 Axes>"
      ]
     },
     "metadata": {
      "needs_background": "light"
     },
     "output_type": "display_data"
    }
   ],
   "source": [
    "# plot feature importance\n",
    "model = XGBClassifier()\n",
    "model.fit(X_train, y_train)\n",
    "plot_importance(model, max_num_features= 25)\n",
    "pyplot.show()"
   ]
  },
  {
   "cell_type": "code",
   "execution_count": 64,
   "metadata": {
    "id": "SNLeMVnfOrOq"
   },
   "outputs": [],
   "source": [
    "# important 10 features\n",
    "list_10 = [0,1,2,3,4,5,6,7,8,141]\n",
    "X_train_important_10 = X_train[X_train.columns[list_10]]\n",
    "X_test_important_10 = X_test[X_test.columns[list_10]]"
   ]
  },
  {
   "cell_type": "code",
   "execution_count": 107,
   "metadata": {
    "id": "KxDFc-jaOrOq"
   },
   "outputs": [],
   "source": [
    "# important 25 features\n",
    "list_names_= [\"ANT_CA_S_n\",\"57\",\"18\",\"ASP_S_n\",\"89\",\"ritm_ecg_p_07\",\"LID_S_n\",\"1\",\"90\",\"16\",\"11\",\"SEX\",\"13\",\"42\",\"GIPER_NA\"] \n",
    "list_25 =[]\n",
    "for x in list_names_:\n",
    "    a = X_train.columns.get_loc(x)\n",
    "    list_25.append(a)\n",
    "list_25 = list_10 + list_25\n",
    "X_train_important_25 = X_train[X_train.columns[list_25]]\n",
    "X_test_important_25 = X_test[X_test.columns[list_25]]"
   ]
  },
  {
   "cell_type": "code",
   "execution_count": 108,
   "metadata": {
    "id": "x7ydxuVcOrOr",
    "outputId": "c46ab5cf-406b-4ef8-b125-f0ffc4d08f1e"
   },
   "outputs": [
    {
     "data": {
      "text/plain": [
       "({'max_depth': 3}, 0.6444853229431151)"
      ]
     },
     "execution_count": 108,
     "metadata": {},
     "output_type": "execute_result"
    }
   ],
   "source": [
    "# tuning with 10 features\n",
    "param_test1 = {\n",
    " 'max_depth':range(3,25,1),\n",
    "}\n",
    "gsearch1 = GridSearchCV(estimator = XGBClassifier( learning_rate =0.1, n_estimators=140, max_depth=5,\n",
    "                                                  min_child_weight=1, gamma=0, subsample=0.8, colsample_bytree=0.8,\n",
    "                                                  objective= 'binary:logistic', nthread=4, scale_pos_weight=1, seed=27), \n",
    "                        param_grid = param_test1, scoring='roc_auc',n_jobs=4, cv=5)\n",
    "gsearch1.fit(X_train_important_10,y_train)\n",
    "gsearch1.best_params_, gsearch1.best_score_"
   ]
  },
  {
   "cell_type": "code",
   "execution_count": 109,
   "metadata": {
    "id": "pW5kSSFbOrOr",
    "outputId": "0a5365da-af1a-4788-9af5-b93fdd8f2024"
   },
   "outputs": [
    {
     "data": {
      "text/plain": [
       "({'max_depth': 21}, 0.6504721087675633)"
      ]
     },
     "execution_count": 109,
     "metadata": {},
     "output_type": "execute_result"
    }
   ],
   "source": [
    "# tuning with 25 features\n",
    "param_test1 = {\n",
    " 'max_depth':range(3,25,1),\n",
    "}\n",
    "gsearch1 = GridSearchCV(estimator = XGBClassifier( learning_rate =0.1, n_estimators=140, max_depth=5,\n",
    "                                                  min_child_weight=1, gamma=0, subsample=0.8, colsample_bytree=0.8,\n",
    "                                                  objective= 'binary:logistic', nthread=4, scale_pos_weight=1, seed=27), \n",
    "                        param_grid = param_test1, scoring='roc_auc',n_jobs=4, cv=5)\n",
    "gsearch1.fit(X_train_important_25,y_train)\n",
    "gsearch1.best_params_, gsearch1.best_score_"
   ]
  },
  {
   "cell_type": "code",
   "execution_count": 110,
   "metadata": {
    "id": "uAsgl4OcOrOr",
    "outputId": "45bba93d-6ccd-421a-9500-793d93f4a4be"
   },
   "outputs": [
    {
     "data": {
      "text/plain": [
       "({'max_depth': 15}, 0.7224154712141725)"
      ]
     },
     "execution_count": 110,
     "metadata": {},
     "output_type": "execute_result"
    }
   ],
   "source": [
    "# tuning with all features\n",
    "param_test1 = {\n",
    " 'max_depth':range(3,25,1),\n",
    "}\n",
    "gsearch1 = GridSearchCV(estimator = XGBClassifier( learning_rate =0.1, n_estimators=140, max_depth=5,\n",
    "                                                  min_child_weight=1, gamma=0, subsample=0.8, colsample_bytree=0.8,\n",
    "                                                  objective= 'binary:logistic', nthread=4, scale_pos_weight=1, seed=27), \n",
    "                        param_grid = param_test1, scoring='roc_auc',n_jobs=4, cv=5)\n",
    "gsearch1.fit(X_train,y_train)\n",
    "gsearch1.best_params_, gsearch1.best_score_"
   ]
  },
  {
   "cell_type": "code",
   "execution_count": 69,
   "metadata": {
    "id": "PzN9BioJOrOr",
    "outputId": "897d4ba5-551f-45cf-b7f8-9afb1f5640dd"
   },
   "outputs": [],
   "source": [
    "# 10 features\n",
    "# train\n",
    "model = XGBClassifier(max_depth = 3)\n",
    "model.fit(X_train_important_10, y_train)\n",
    "\n",
    "# predict\n",
    "y_pred = model.predict(X_test_important_10)\n",
    "predictions = [round(value) for value in y_pred]"
   ]
  },
  {
   "cell_type": "code",
   "execution_count": 70,
   "metadata": {
    "id": "hMOfArSPOrOs",
    "outputId": "effc331d-9811-4bef-a0d9-39898580d114"
   },
   "outputs": [
    {
     "name": "stdout",
     "output_type": "stream",
     "text": [
      "Accuracy: 0.6011904761904762\n",
      "Precision: 0.6307692307692307\n",
      "Recall: 0.6648648648648648\n",
      "F-measure: 0.6473684210526316\n"
     ]
    }
   ],
   "source": [
    "# report performance metrics\n",
    "print(\"Accuracy:\",metrics.accuracy_score(y_test, y_pred))\n",
    "print(\"Precision:\",metrics.precision_score(y_test, y_pred))\n",
    "print(\"Recall:\",metrics.recall_score(y_test, y_pred))\n",
    "print(\"F-measure:\",metrics.f1_score(y_test, y_pred))"
   ]
  },
  {
   "cell_type": "code",
   "execution_count": 71,
   "metadata": {
    "id": "1F7PAFWLOrOs",
    "outputId": "caefa0a1-f7cc-4d82-da97-07e0e5f6e63b"
   },
   "outputs": [],
   "source": [
    "# 25 features\n",
    "model = XGBClassifier(max_depth = 3)\n",
    "model.fit(X_train_important_25, y_train)\n",
    "y_pred = model.predict(X_test_important_25)\n",
    "predictions = [round(value) for value in y_pred]"
   ]
  },
  {
   "cell_type": "code",
   "execution_count": 72,
   "metadata": {
    "id": "rADKfPLlOrOt",
    "outputId": "ec628e96-e40e-4cae-b02d-37bf566050bf"
   },
   "outputs": [
    {
     "name": "stdout",
     "output_type": "stream",
     "text": [
      "Accuracy: 0.6220238095238095\n",
      "Precision: 0.6559139784946236\n",
      "Recall: 0.6594594594594595\n",
      "F-measure: 0.6576819407008087\n"
     ]
    }
   ],
   "source": [
    "# report performance metrics\n",
    "print(\"Accuracy:\",metrics.accuracy_score(y_test, y_pred))\n",
    "print(\"Precision:\",metrics.precision_score(y_test, y_pred))\n",
    "print(\"Recall:\",metrics.recall_score(y_test, y_pred))\n",
    "print(\"F-measure:\",metrics.f1_score(y_test, y_pred))"
   ]
  },
  {
   "cell_type": "code",
   "execution_count": 73,
   "metadata": {
    "id": "bAdTq21AOrOt",
    "outputId": "0dc90de1-0889-48e7-ca6d-c5d2a7b9ecb0"
   },
   "outputs": [],
   "source": [
    "# all features\n",
    "model = XGBClassifier(max_depth = 3)\n",
    "model.fit(X_train, y_train)\n",
    "y_pred = model.predict(X_test)\n",
    "predictions = [round(value) for value in y_pred]"
   ]
  },
  {
   "cell_type": "code",
   "execution_count": 74,
   "metadata": {
    "id": "ZRm3HvJ0OrOt",
    "outputId": "d1e5f9e6-2079-45df-b151-77a4d0adc289"
   },
   "outputs": [
    {
     "name": "stdout",
     "output_type": "stream",
     "text": [
      "Accuracy: 0.6755952380952381\n",
      "Precision: 0.7065217391304348\n",
      "Recall: 0.7027027027027027\n",
      "F-measure: 0.7046070460704607\n"
     ]
    }
   ],
   "source": [
    "# report performance metrics\n",
    "print(\"Accuracy:\",metrics.accuracy_score(y_test, y_pred))\n",
    "print(\"Precision:\",metrics.precision_score(y_test, y_pred))\n",
    "print(\"Recall:\",metrics.recall_score(y_test, y_pred))\n",
    "print(\"F-measure:\",metrics.f1_score(y_test, y_pred))"
   ]
  },
  {
   "cell_type": "code",
   "execution_count": 75,
   "metadata": {},
   "outputs": [
    {
     "name": "stdout",
     "output_type": "stream",
     "text": [
      "No Skill: ROC AUC=0.500\n",
      "DT 15: ROC AUC=0.675\n",
      "RF 20: ROC AUC=0.712\n"
     ]
    },
    {
     "data": {
      "image/png": "[encoded data removed]",
      "text/plain": [
       "<Figure size 432x288 with 1 Axes>"
      ]
     },
     "metadata": {
      "needs_background": "light"
     },
     "output_type": "display_data"
    }
   ],
   "source": [
    "# roc curve and auc\n",
    "# generate a no skill prediction (majority class)\n",
    "ns_probs = [0 for _ in range(len(y_test))]\n",
    "\n",
    "# train\n",
    "train_model_dt = tree.DecisionTreeClassifier(max_depth=5, min_samples_leaf=15)\n",
    "train_model_dt.fit(X_train_15, y_train)\n",
    "rf_model = RandomForestClassifier(max_depth=7, min_samples_leaf=15)\n",
    "train_model_rf= rf_model.fit(X_train_20, y_train)\n",
    "\n",
    "# predict\n",
    "dt_probs = train_model_dt.predict_proba(X_test_15)\n",
    "rf_probs= train_model_rf.predict_proba(X_test_20)\n",
    "\n",
    "# keep positive outcomes\n",
    "dt_probs = dt_probs[:, 1]\n",
    "rf_probs = rf_probs[:, 1]\n",
    "\n",
    "# calculate auc\n",
    "ns_auc = roc_auc_score(y_test, ns_probs)\n",
    "dt_auc = roc_auc_score(y_test, dt_probs)\n",
    "rf_auc = roc_auc_score(y_test, rf_probs)\n",
    "print('No Skill: ROC AUC=%.3f' % (ns_auc))\n",
    "print('DT 15: ROC AUC=%.3f' % (dt_auc))\n",
    "print('RF 20: ROC AUC=%.3f' % (rf_auc))\n",
    "\n",
    "# calculate roc\n",
    "ns_fpr, ns_tpr, _ = roc_curve(y_test, ns_probs)\n",
    "dt_fpr, dt_tpr, _ = roc_curve(y_test, dt_probs)\n",
    "rf_fpr, rf_tpr, _ = roc_curve(y_test, rf_probs)\n",
    "\n",
    "# plot roc curve\n",
    "pyplot.plot(ns_fpr, ns_tpr, linestyle='--', color='blue', label='No Skill')\n",
    "pyplot.plot(dt_fpr, dt_tpr, marker='.', color='orange', label='Decision Tree 15')\n",
    "pyplot.plot(rf_fpr, rf_tpr, marker='.', color='green', label='Random Forest 20')\n",
    "pyplot.xlabel('False Positive Rate')\n",
    "pyplot.ylabel('True Positive Rate')\n",
    "pyplot.legend()\n",
    "pyplot.show()"
   ]
  }
 ],
 "metadata": {
  "colab": {
   "name": "Rev13_Myocardial_Data_Imputation_v3.ipynb",
   "provenance": []
  },
  "kernelspec": {
   "display_name": "Python 3 (ipykernel)",
   "language": "python",
   "name": "python3"
  },
  "language_info": {
   "codemirror_mode": {
    "name": "ipython",
    "version": 3
   },
   "file_extension": ".py",
   "mimetype": "text/x-python",
   "name": "python",
   "nbconvert_exporter": "python",
   "pygments_lexer": "ipython3",
   "version": "3.9.11"
  },
  "vscode": {
   "interpreter": {
    "hash": "aee8b7b246df8f9039afb4144a1f6fd8d2ca17a180786b69acc140d282b71a49"
   }
  }
 },
 "nbformat": 4,
 "nbformat_minor": 1
}
